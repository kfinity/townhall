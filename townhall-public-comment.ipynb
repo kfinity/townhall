{
 "cells": [
  {
   "cell_type": "code",
   "execution_count": 1,
   "id": "60617408",
   "metadata": {},
   "outputs": [],
   "source": [
    "import requests\n",
    "from bs4 import BeautifulSoup\n",
    "import pandas as pd\n",
    "import re\n",
    "from datetime import datetime\n",
    "import os\n",
    "import time"
   ]
  },
  {
   "cell_type": "code",
   "execution_count": 23,
   "id": "84a81484",
   "metadata": {},
   "outputs": [],
   "source": [
    "main_url=\"https://townhall.virginia.gov/L/Comments.cfm?GdocForumID=1953\"\n"
   ]
  },
  {
   "cell_type": "code",
   "execution_count": 27,
   "id": "14fc1ee8",
   "metadata": {},
   "outputs": [],
   "source": [
    "html_content = requests.get(main_url).text\n",
    "soup = BeautifulSoup(html_content, \"lxml\")\n",
    "main_tab = soup.find('table')"
   ]
  },
  {
   "cell_type": "code",
   "execution_count": 73,
   "id": "5026ea21",
   "metadata": {},
   "outputs": [],
   "source": [
    "# save off raw html\n",
    "with open(\"raw_html.txt\", \"w\") as text_file:\n",
    "    text_file.write(html_content)"
   ]
  },
  {
   "cell_type": "code",
   "execution_count": null,
   "id": "be52dfeb",
   "metadata": {},
   "outputs": [],
   "source": [
    "with open('raw_html.txt', 'r') as file:\n",
    "    html_content = file.read()"
   ]
  },
  {
   "cell_type": "code",
   "execution_count": 28,
   "id": "23d28eb5",
   "metadata": {},
   "outputs": [],
   "source": [
    "df = pd.read_html(str(main_tab))[0]"
   ]
  },
  {
   "cell_type": "code",
   "execution_count": 57,
   "id": "581bd607",
   "metadata": {},
   "outputs": [],
   "source": [
    "urls = [re.search('.+=([0-9]+)', r.a['href']).group(1) for r in main_tab.find_all('tr')]\n",
    "df['commentId'] = urls[1:]"
   ]
  },
  {
   "cell_type": "code",
   "execution_count": 66,
   "id": "e8d06582",
   "metadata": {},
   "outputs": [
    {
     "data": {
      "text/html": [
       "<div>\n",
       "<style scoped>\n",
       "    .dataframe tbody tr th:only-of-type {\n",
       "        vertical-align: middle;\n",
       "    }\n",
       "\n",
       "    .dataframe tbody tr th {\n",
       "        vertical-align: top;\n",
       "    }\n",
       "\n",
       "    .dataframe thead th {\n",
       "        text-align: right;\n",
       "    }\n",
       "</style>\n",
       "<table border=\"1\" class=\"dataframe\">\n",
       "  <thead>\n",
       "    <tr style=\"text-align: right;\">\n",
       "      <th></th>\n",
       "      <th>Comment Title</th>\n",
       "      <th>Commenter</th>\n",
       "      <th>Date</th>\n",
       "      <th>commentId</th>\n",
       "      <th>full_comment</th>\n",
       "    </tr>\n",
       "  </thead>\n",
       "  <tbody>\n",
       "    <tr>\n",
       "      <th>0</th>\n",
       "      <td>I am strongly opposed.</td>\n",
       "      <td>Latosha Misciagna</td>\n",
       "      <td>9/26/22 4:27 pm</td>\n",
       "      <td>136285</td>\n",
       "      <td></td>\n",
       "    </tr>\n",
       "    <tr>\n",
       "      <th>1</th>\n",
       "      <td>Awful legislation!</td>\n",
       "      <td>Vincent J. Albiani</td>\n",
       "      <td>9/26/22 4:27 pm</td>\n",
       "      <td>136284</td>\n",
       "      <td></td>\n",
       "    </tr>\n",
       "    <tr>\n",
       "      <th>2</th>\n",
       "      <td>This is a terrible policy decision.</td>\n",
       "      <td>Gaye Degrazio</td>\n",
       "      <td>9/26/22 4:27 pm</td>\n",
       "      <td>136283</td>\n",
       "      <td></td>\n",
       "    </tr>\n",
       "  </tbody>\n",
       "</table>\n",
       "</div>"
      ],
      "text/plain": [
       "                         Comment Title           Commenter             Date  \\\n",
       "0               I am strongly opposed.   Latosha Misciagna  9/26/22 4:27 pm   \n",
       "1                   Awful legislation!  Vincent J. Albiani  9/26/22 4:27 pm   \n",
       "2  This is a terrible policy decision.       Gaye Degrazio  9/26/22 4:27 pm   \n",
       "\n",
       "  commentId full_comment  \n",
       "0    136285               \n",
       "1    136284               \n",
       "2    136283               "
      ]
     },
     "execution_count": 66,
     "metadata": {},
     "output_type": "execute_result"
    }
   ],
   "source": [
    "df.head(3)"
   ]
  },
  {
   "cell_type": "code",
   "execution_count": 41,
   "id": "b5f9ff6d",
   "metadata": {},
   "outputs": [
    {
     "data": {
      "text/html": [
       "<div>\n",
       "<style scoped>\n",
       "    .dataframe tbody tr th:only-of-type {\n",
       "        vertical-align: middle;\n",
       "    }\n",
       "\n",
       "    .dataframe tbody tr th {\n",
       "        vertical-align: top;\n",
       "    }\n",
       "\n",
       "    .dataframe thead th {\n",
       "        text-align: right;\n",
       "    }\n",
       "</style>\n",
       "<table border=\"1\" class=\"dataframe\">\n",
       "  <thead>\n",
       "    <tr style=\"text-align: right;\">\n",
       "      <th></th>\n",
       "      <th>Comment Title</th>\n",
       "      <th>Commenter</th>\n",
       "      <th>Date</th>\n",
       "    </tr>\n",
       "  </thead>\n",
       "  <tbody>\n",
       "    <tr>\n",
       "      <th>7313</th>\n",
       "      <td>Transgender pronkun</td>\n",
       "      <td>Anonymous (128950)</td>\n",
       "      <td>9/26/22 5:24 am</td>\n",
       "    </tr>\n",
       "    <tr>\n",
       "      <th>7314</th>\n",
       "      <td>Wholly support the 2022 guidance</td>\n",
       "      <td>LH, Fairfax County Public Schools mother</td>\n",
       "      <td>9/26/22 2:37 am</td>\n",
       "    </tr>\n",
       "    <tr>\n",
       "      <th>7315</th>\n",
       "      <td>Protect Kids</td>\n",
       "      <td>Cassidy Moulton-Hill</td>\n",
       "      <td>9/26/22 12:30 am</td>\n",
       "    </tr>\n",
       "  </tbody>\n",
       "</table>\n",
       "</div>"
      ],
      "text/plain": [
       "                         Comment Title  \\\n",
       "7313               Transgender pronkun   \n",
       "7314  Wholly support the 2022 guidance   \n",
       "7315                      Protect Kids   \n",
       "\n",
       "                                     Commenter              Date  \n",
       "7313                        Anonymous (128950)   9/26/22 5:24 am  \n",
       "7314  LH, Fairfax County Public Schools mother   9/26/22 2:37 am  \n",
       "7315                      Cassidy Moulton-Hill  9/26/22 12:30 am  "
      ]
     },
     "execution_count": 41,
     "metadata": {},
     "output_type": "execute_result"
    }
   ],
   "source": [
    "df.tail(3)"
   ]
  },
  {
   "cell_type": "code",
   "execution_count": 65,
   "id": "682883f4",
   "metadata": {},
   "outputs": [],
   "source": []
  },
  {
   "cell_type": "code",
   "execution_count": 72,
   "id": "04bc998d",
   "metadata": {},
   "outputs": [],
   "source": [
    "# loop over all entries, update in place\n",
    "df['full_comment'] = ''\n",
    "for i in range(df.shape[0]):\n",
    "    url=f\"https://townhall.virginia.gov/L/viewcomments.cfm?commentid={df.loc[i,'commentId']}\"\n",
    "    soup2 = BeautifulSoup(requests.get(url).text, \"lxml\")\n",
    "    df.loc[i,'full_comment'] = soup2.find(attrs={\"class\": \"divComment\"}).text"
   ]
  },
  {
   "cell_type": "code",
   "execution_count": 75,
   "id": "c2384918",
   "metadata": {},
   "outputs": [],
   "source": [
    "df.to_csv('1953_comments.csv')"
   ]
  },
  {
   "cell_type": "code",
   "execution_count": null,
   "id": "7da24594",
   "metadata": {},
   "outputs": [],
   "source": []
  }
 ],
 "metadata": {
  "kernelspec": {
   "display_name": "Python 3",
   "language": "python",
   "name": "python3"
  },
  "language_info": {
   "codemirror_mode": {
    "name": "ipython",
    "version": 3
   },
   "file_extension": ".py",
   "mimetype": "text/x-python",
   "name": "python",
   "nbconvert_exporter": "python",
   "pygments_lexer": "ipython3",
   "version": "3.8.3"
  }
 },
 "nbformat": 4,
 "nbformat_minor": 5
}
