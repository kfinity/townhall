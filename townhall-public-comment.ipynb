{
 "cells": [
  {
   "cell_type": "code",
   "execution_count": 1,
   "metadata": {},
   "outputs": [],
   "source": [
    "import requests\n",
    "from bs4 import BeautifulSoup\n",
    "import pandas as pd\n",
    "import numpy as np\n",
    "import re\n",
    "from datetime import datetime\n",
    "import os\n",
    "import time\n",
    "import unicodedata\n",
    "import matplotlib.pyplot as plt\n",
    "import seaborn as sns"
   ]
  },
  {
   "cell_type": "code",
   "execution_count": 5,
   "metadata": {},
   "outputs": [],
   "source": [
    "main_url=\"https://townhall.virginia.gov/L/Comments.cfm?GdocForumID=1953\"\n",
    "\n",
    "orig_url=\"https://townhall.virginia.gov/L/GDocForum.cfm?GDocForumID=452\""
   ]
  },
  {
   "cell_type": "markdown",
   "metadata": {},
   "source": [
    "## Alt method - full comments page, paginated"
   ]
  },
  {
   "cell_type": "code",
   "execution_count": 2,
   "metadata": {},
   "outputs": [],
   "source": [
    "base_url = \"https://townhall.virginia.gov/L/ViewComments.cfm?GdocForumID=1953\"\n",
    "params = {\"vPage\": 1,\n",
    "  \"vPerPage\": 999,\n",
    "  \"sub1\": \"go\"}"
   ]
  },
  {
   "cell_type": "code",
   "execution_count": 3,
   "metadata": {},
   "outputs": [
    {
     "name": "stdout",
     "output_type": "stream",
     "text": [
      "page 1/53\n",
      "page 2/53\n",
      "page 3/53\n",
      "page 4/53\n",
      "page 5/53\n",
      "page 6/53\n",
      "page 7/53\n",
      "page 8/53\n",
      "page 9/53\n",
      "page 10/53\n",
      "page 11/53\n",
      "page 12/53\n",
      "page 13/53\n",
      "page 14/53\n",
      "page 15/53\n",
      "page 16/53\n",
      "page 17/53\n",
      "page 18/53\n",
      "page 19/53\n",
      "page 20/53\n",
      "page 21/53\n",
      "page 22/53\n",
      "page 23/53\n",
      "page 24/53\n",
      "page 25/53\n",
      "page 26/53\n",
      "page 27/53\n",
      "page 28/53\n",
      "page 29/53\n",
      "page 30/53\n",
      "page 31/53\n",
      "page 32/53\n",
      "page 33/53\n",
      "page 34/53\n",
      "page 35/53\n",
      "page 36/53\n",
      "page 37/53\n",
      "page 38/53\n",
      "page 39/53\n",
      "page 40/53\n",
      "page 41/53\n",
      "page 42/53\n",
      "page 43/53\n",
      "page 44/53\n",
      "page 45/53\n",
      "page 46/53\n",
      "page 47/53\n",
      "page 48/53\n",
      "page 49/53\n",
      "page 50/53\n",
      "page 51/53\n",
      "page 52/53\n",
      "page 53/53\n"
     ]
    }
   ],
   "source": [
    "pagecount = 99\n",
    "params['vPage'] = 1\n",
    "\n",
    "dfc = pd.DataFrame()\n",
    "\n",
    "while params['vPage'] <= pagecount:\n",
    "    r = requests.post(base_url, data=params)\n",
    "    soup = BeautifulSoup(r.text, \"lxml\")\n",
    "    try:\n",
    "        pagecount = int(soup.find(id=\"page\").div.a.text)\n",
    "    except:\n",
    "        pagecount = 0\n",
    "    print(f\"page {params['vPage']}/{pagecount}\")\n",
    "    params['vPage'] += 1\n",
    "    boxes = soup.find_all(attrs={\"class\": \"Cbox\"})\n",
    "    for box in boxes:\n",
    "        comment = {\"Date\": unicodedata.normalize(\"NFKD\", box.contents[1].div.get_text(strip=True)),\n",
    "           \"Commenter\": box.contents[3].contents[2].strip(),\n",
    "           \"Comment Title\": box.contents[3].find_all('strong')[1].get_text(strip=True),\n",
    "           \"Comment\": box.find(attrs={\"class\":\"divComment\"}).get_text(strip=True),\n",
    "           \"CommentID\": int(box.find(attrs={\"class\":\"linklight\"}).get_text(strip=True))}\n",
    "        dfc = dfc.append(comment, ignore_index=True)\n"
   ]
  },
  {
   "cell_type": "code",
   "execution_count": 4,
   "metadata": {},
   "outputs": [
    {
     "name": "stdout",
     "output_type": "stream",
     "text": [
      "(52229, 5)\n",
      "52201\n"
     ]
    }
   ],
   "source": [
    "print(dfc.shape)\n",
    "print(len(dfc['CommentID'].unique()))"
   ]
  },
  {
   "cell_type": "code",
   "execution_count": 5,
   "metadata": {},
   "outputs": [],
   "source": [
    "dfc.to_csv('all_comments.csv')"
   ]
  },
  {
   "cell_type": "code",
   "execution_count": null,
   "metadata": {},
   "outputs": [],
   "source": []
  },
  {
   "cell_type": "code",
   "execution_count": 6,
   "metadata": {},
   "outputs": [],
   "source": [
    "# read back from csv"
   ]
  },
  {
   "cell_type": "code",
   "execution_count": 7,
   "metadata": {},
   "outputs": [],
   "source": [
    "# feature eng"
   ]
  },
  {
   "cell_type": "code",
   "execution_count": 8,
   "metadata": {},
   "outputs": [],
   "source": [
    "dfc['Date'] = pd.to_datetime(dfc['Date'], errors='coerce') "
   ]
  },
  {
   "cell_type": "code",
   "execution_count": 9,
   "metadata": {},
   "outputs": [],
   "source": [
    "dfc['alltext'] = (dfc['Comment Title'] + ' ' + dfc['Comment']).str.lower()"
   ]
  },
  {
   "cell_type": "code",
   "execution_count": 10,
   "metadata": {},
   "outputs": [],
   "source": [
    "dfc['support'] = dfc['Comment Title'].str.lower().str.contains('support')\n",
    "dfc['oppose'] = dfc['Comment Title'].str.lower().str.contains('oppose')"
   ]
  },
  {
   "cell_type": "code",
   "execution_count": 11,
   "metadata": {},
   "outputs": [
    {
     "name": "stdout",
     "output_type": "stream",
     "text": [
      "Total: 52229 comments\n",
      "Using title alone...\n",
      "Support policy: 10359 comments, avg length 195\n",
      "Oppose policy: 17160 comments, avg length 217\n",
      "Unclear: 24912 comments, avg length 168\n",
      "Intersect: 202\n"
     ]
    }
   ],
   "source": [
    "\n",
    "print(f\"Total: {dfc.shape[0]} comments\")\n",
    "print(\"Using title alone...\")\n",
    "print(f\"Support policy: {dfc['support'].sum()} comments, avg length {dfc.loc[dfc['support']]['Comment'].str.len().mean():.0f}\")\n",
    "print(f\"Oppose policy: {dfc['oppose'].sum()} comments, avg length {dfc.loc[dfc['oppose']]['Comment'].str.len().mean():.0f}\")\n",
    "print(f\"Unclear: {(~dfc['support'] & ~dfc['oppose']).sum()} comments, avg length {dfc.loc[(~dfc['support'] & ~dfc['oppose'])]['Comment'].str.len().mean():.0f}\")\n",
    "print(f\"Intersect: {(dfc['support'] & dfc['oppose']).sum()}\")"
   ]
  },
  {
   "cell_type": "code",
   "execution_count": null,
   "metadata": {},
   "outputs": [],
   "source": []
  },
  {
   "cell_type": "code",
   "execution_count": 12,
   "metadata": {},
   "outputs": [],
   "source": [
    "# process text field\n",
    "cleantext = []\n",
    "\n",
    "for sentence in dfc['alltext']:\n",
    "    # Remove all the special characters\n",
    "    processed_feature = re.sub(r'\\W', ' ', str(sentence))\n",
    "\n",
    "    # remove all single characters\n",
    "    processed_feature= re.sub(r'\\s+[a-zA-Z]\\s+', ' ', processed_feature)\n",
    "\n",
    "    # Remove single characters from the start\n",
    "    processed_feature = re.sub(r'\\^[a-zA-Z]\\s+', ' ', processed_feature) \n",
    "\n",
    "    # Substituting multiple spaces with single space\n",
    "    processed_feature = re.sub(r'\\s+', ' ', processed_feature, flags=re.I)\n",
    "\n",
    "    # Removing prefixed 'b'\n",
    "    processed_feature = re.sub(r'^b\\s+', '', processed_feature)\n",
    "\n",
    "    # Converting to Lowercase\n",
    "    processed_feature = processed_feature.lower()\n",
    "\n",
    "    cleantext.append(processed_feature)\n",
    "    \n",
    "dfc['cleantext'] = cleantext"
   ]
  },
  {
   "cell_type": "code",
   "execution_count": 13,
   "metadata": {},
   "outputs": [],
   "source": [
    "# segment training data from unknown data\n",
    "\n",
    "dfc['label'] = 'Unknown'\n",
    "dfc.loc[dfc['support'],'label'] = 'Support'\n",
    "dfc.loc[dfc['oppose'],'label'] = 'Oppose'\n",
    "dfc.loc[(dfc['support'] & dfc['oppose']), 'label'] = 'Unknown'\n",
    "\n",
    "train = dfc.loc[dfc['label'] != 'Unknown',:]\n",
    "unk = dfc.loc[dfc['label'] == 'Unknown']"
   ]
  },
  {
   "cell_type": "code",
   "execution_count": 14,
   "metadata": {},
   "outputs": [],
   "source": [
    "from nltk.corpus import stopwords\n",
    "from sklearn.feature_extraction.text import TfidfVectorizer\n",
    "\n",
    "vectorizer = TfidfVectorizer(max_features=2500, min_df=7, max_df=0.8, stop_words=stopwords.words('english'))\n",
    "processed_features = vectorizer.fit_transform(train['cleantext']).toarray()\n"
   ]
  },
  {
   "cell_type": "code",
   "execution_count": 15,
   "metadata": {},
   "outputs": [],
   "source": [
    "from sklearn.model_selection import train_test_split\n",
    "X_train, X_test, y_train, y_test = train_test_split(processed_features, train['label'], test_size=0.2, random_state=0)"
   ]
  },
  {
   "cell_type": "code",
   "execution_count": 16,
   "metadata": {},
   "outputs": [
    {
     "data": {
      "text/plain": [
       "RandomForestClassifier(bootstrap=True, ccp_alpha=0.0, class_weight=None,\n",
       "                       criterion='gini', max_depth=None, max_features='auto',\n",
       "                       max_leaf_nodes=None, max_samples=None,\n",
       "                       min_impurity_decrease=0.0, min_impurity_split=None,\n",
       "                       min_samples_leaf=1, min_samples_split=2,\n",
       "                       min_weight_fraction_leaf=0.0, n_estimators=200,\n",
       "                       n_jobs=None, oob_score=False, random_state=0, verbose=0,\n",
       "                       warm_start=False)"
      ]
     },
     "execution_count": 16,
     "metadata": {},
     "output_type": "execute_result"
    }
   ],
   "source": [
    "from sklearn.ensemble import RandomForestClassifier\n",
    "\n",
    "text_classifier = RandomForestClassifier(n_estimators=200, random_state=0)\n",
    "text_classifier.fit(X_train, y_train)"
   ]
  },
  {
   "cell_type": "code",
   "execution_count": 17,
   "metadata": {},
   "outputs": [],
   "source": [
    "predictions = text_classifier.predict(X_test)"
   ]
  },
  {
   "cell_type": "code",
   "execution_count": 18,
   "metadata": {},
   "outputs": [
    {
     "name": "stdout",
     "output_type": "stream",
     "text": [
      "[[3367    3]\n",
      " [  44 2009]]\n",
      "              precision    recall  f1-score   support\n",
      "\n",
      "      Oppose       0.99      1.00      0.99      3370\n",
      "     Support       1.00      0.98      0.99      2053\n",
      "\n",
      "    accuracy                           0.99      5423\n",
      "   macro avg       0.99      0.99      0.99      5423\n",
      "weighted avg       0.99      0.99      0.99      5423\n",
      "\n",
      "0.9913332104001475\n"
     ]
    }
   ],
   "source": [
    "from sklearn.metrics import classification_report, confusion_matrix, accuracy_score\n",
    "\n",
    "print(confusion_matrix(y_test,predictions))\n",
    "print(classification_report(y_test,predictions))\n",
    "print(accuracy_score(y_test, predictions))"
   ]
  },
  {
   "cell_type": "code",
   "execution_count": 19,
   "metadata": {},
   "outputs": [
    {
     "name": "stderr",
     "output_type": "stream",
     "text": [
      "/home/kfinity/anaconda3/lib/python3.7/site-packages/ipykernel_launcher.py:3: SettingWithCopyWarning: \n",
      "A value is trying to be set on a copy of a slice from a DataFrame.\n",
      "Try using .loc[row_indexer,col_indexer] = value instead\n",
      "\n",
      "See the caveats in the documentation: https://pandas.pydata.org/pandas-docs/stable/user_guide/indexing.html#returning-a-view-versus-a-copy\n",
      "  This is separate from the ipykernel package so we can avoid doing imports until\n"
     ]
    }
   ],
   "source": [
    "unk_input = vectorizer.transform(unk['cleantext']).toarray() # don't re-fit the vectorizer!\n",
    "real_preds = text_classifier.predict(unk_input)\n",
    "unk['pred'] = real_preds"
   ]
  },
  {
   "cell_type": "code",
   "execution_count": 20,
   "metadata": {},
   "outputs": [
    {
     "data": {
      "text/html": [
       "<div>\n",
       "<style scoped>\n",
       "    .dataframe tbody tr th:only-of-type {\n",
       "        vertical-align: middle;\n",
       "    }\n",
       "\n",
       "    .dataframe tbody tr th {\n",
       "        vertical-align: top;\n",
       "    }\n",
       "\n",
       "    .dataframe thead th {\n",
       "        text-align: right;\n",
       "    }\n",
       "</style>\n",
       "<table border=\"1\" class=\"dataframe\">\n",
       "  <thead>\n",
       "    <tr style=\"text-align: right;\">\n",
       "      <th></th>\n",
       "      <th>Comment</th>\n",
       "      <th>Comment Title</th>\n",
       "      <th>CommentID</th>\n",
       "      <th>Commenter</th>\n",
       "      <th>Date</th>\n",
       "      <th>alltext</th>\n",
       "      <th>support</th>\n",
       "      <th>oppose</th>\n",
       "      <th>cleantext</th>\n",
       "      <th>label</th>\n",
       "    </tr>\n",
       "    <tr>\n",
       "      <th>pred</th>\n",
       "      <th></th>\n",
       "      <th></th>\n",
       "      <th></th>\n",
       "      <th></th>\n",
       "      <th></th>\n",
       "      <th></th>\n",
       "      <th></th>\n",
       "      <th></th>\n",
       "      <th></th>\n",
       "      <th></th>\n",
       "    </tr>\n",
       "  </thead>\n",
       "  <tbody>\n",
       "    <tr>\n",
       "      <th>Oppose</th>\n",
       "      <td>22379</td>\n",
       "      <td>22379</td>\n",
       "      <td>22379</td>\n",
       "      <td>22379</td>\n",
       "      <td>22379</td>\n",
       "      <td>22379</td>\n",
       "      <td>22379</td>\n",
       "      <td>22379</td>\n",
       "      <td>22379</td>\n",
       "      <td>22379</td>\n",
       "    </tr>\n",
       "    <tr>\n",
       "      <th>Support</th>\n",
       "      <td>2735</td>\n",
       "      <td>2735</td>\n",
       "      <td>2735</td>\n",
       "      <td>2735</td>\n",
       "      <td>2735</td>\n",
       "      <td>2735</td>\n",
       "      <td>2735</td>\n",
       "      <td>2735</td>\n",
       "      <td>2735</td>\n",
       "      <td>2735</td>\n",
       "    </tr>\n",
       "  </tbody>\n",
       "</table>\n",
       "</div>"
      ],
      "text/plain": [
       "         Comment  Comment Title  CommentID  Commenter   Date  alltext  \\\n",
       "pred                                                                    \n",
       "Oppose     22379          22379      22379      22379  22379    22379   \n",
       "Support     2735           2735       2735       2735   2735     2735   \n",
       "\n",
       "         support  oppose  cleantext  label  \n",
       "pred                                        \n",
       "Oppose     22379   22379      22379  22379  \n",
       "Support     2735    2735       2735   2735  "
      ]
     },
     "execution_count": 20,
     "metadata": {},
     "output_type": "execute_result"
    }
   ],
   "source": [
    "unk.groupby(['pred']).count()"
   ]
  },
  {
   "cell_type": "code",
   "execution_count": 21,
   "metadata": {},
   "outputs": [
    {
     "data": {
      "text/html": [
       "<div>\n",
       "<style scoped>\n",
       "    .dataframe tbody tr th:only-of-type {\n",
       "        vertical-align: middle;\n",
       "    }\n",
       "\n",
       "    .dataframe tbody tr th {\n",
       "        vertical-align: top;\n",
       "    }\n",
       "\n",
       "    .dataframe thead th {\n",
       "        text-align: right;\n",
       "    }\n",
       "</style>\n",
       "<table border=\"1\" class=\"dataframe\">\n",
       "  <thead>\n",
       "    <tr style=\"text-align: right;\">\n",
       "      <th></th>\n",
       "      <th>Comment</th>\n",
       "      <th>Comment Title</th>\n",
       "      <th>CommentID</th>\n",
       "      <th>Commenter</th>\n",
       "      <th>Date</th>\n",
       "      <th>alltext</th>\n",
       "      <th>support</th>\n",
       "      <th>oppose</th>\n",
       "      <th>cleantext</th>\n",
       "    </tr>\n",
       "    <tr>\n",
       "      <th>label</th>\n",
       "      <th></th>\n",
       "      <th></th>\n",
       "      <th></th>\n",
       "      <th></th>\n",
       "      <th></th>\n",
       "      <th></th>\n",
       "      <th></th>\n",
       "      <th></th>\n",
       "      <th></th>\n",
       "    </tr>\n",
       "  </thead>\n",
       "  <tbody>\n",
       "    <tr>\n",
       "      <th>Oppose</th>\n",
       "      <td>16958</td>\n",
       "      <td>16958</td>\n",
       "      <td>16958</td>\n",
       "      <td>16958</td>\n",
       "      <td>16958</td>\n",
       "      <td>16958</td>\n",
       "      <td>16958</td>\n",
       "      <td>16958</td>\n",
       "      <td>16958</td>\n",
       "    </tr>\n",
       "    <tr>\n",
       "      <th>Support</th>\n",
       "      <td>10157</td>\n",
       "      <td>10157</td>\n",
       "      <td>10157</td>\n",
       "      <td>10157</td>\n",
       "      <td>10157</td>\n",
       "      <td>10157</td>\n",
       "      <td>10157</td>\n",
       "      <td>10157</td>\n",
       "      <td>10157</td>\n",
       "    </tr>\n",
       "  </tbody>\n",
       "</table>\n",
       "</div>"
      ],
      "text/plain": [
       "         Comment  Comment Title  CommentID  Commenter   Date  alltext  \\\n",
       "label                                                                   \n",
       "Oppose     16958          16958      16958      16958  16958    16958   \n",
       "Support    10157          10157      10157      10157  10157    10157   \n",
       "\n",
       "         support  oppose  cleantext  \n",
       "label                                \n",
       "Oppose     16958   16958      16958  \n",
       "Support    10157   10157      10157  "
      ]
     },
     "execution_count": 21,
     "metadata": {},
     "output_type": "execute_result"
    }
   ],
   "source": [
    "train.groupby(['label']).count()"
   ]
  },
  {
   "cell_type": "code",
   "execution_count": 22,
   "metadata": {},
   "outputs": [
    {
     "name": "stderr",
     "output_type": "stream",
     "text": [
      "/home/kfinity/anaconda3/lib/python3.7/site-packages/ipykernel_launcher.py:1: SettingWithCopyWarning: \n",
      "A value is trying to be set on a copy of a slice from a DataFrame.\n",
      "Try using .loc[row_indexer,col_indexer] = value instead\n",
      "\n",
      "See the caveats in the documentation: https://pandas.pydata.org/pandas-docs/stable/user_guide/indexing.html#returning-a-view-versus-a-copy\n",
      "  \"\"\"Entry point for launching an IPython kernel.\n"
     ]
    }
   ],
   "source": [
    "train['pred'] = ''\n",
    "output_df = train.loc[:,['CommentID','Commenter','Comment Title','Comment','Date','label','pred']]\n",
    "output_df = output_df.append(unk.loc[:,['CommentID','Commenter','Comment Title','Comment','Date','label','pred']])"
   ]
  },
  {
   "cell_type": "code",
   "execution_count": 23,
   "metadata": {},
   "outputs": [],
   "source": [
    "output_df.to_csv('output.csv',index=False)"
   ]
  },
  {
   "cell_type": "code",
   "execution_count": 24,
   "metadata": {},
   "outputs": [
    {
     "name": "stderr",
     "output_type": "stream",
     "text": [
      "/home/kfinity/anaconda3/lib/python3.7/site-packages/ipykernel_launcher.py:2: SettingWithCopyWarning: \n",
      "A value is trying to be set on a copy of a slice from a DataFrame.\n",
      "Try using .loc[row_indexer,col_indexer] = value instead\n",
      "\n",
      "See the caveats in the documentation: https://pandas.pydata.org/pandas-docs/stable/user_guide/indexing.html#returning-a-view-versus-a-copy\n",
      "  \n"
     ]
    },
    {
     "data": {
      "text/plain": [
       "merged\n",
       "Oppose     22883\n",
       "Support     9147\n",
       "Name: CommentID, dtype: int64"
      ]
     },
     "execution_count": 24,
     "metadata": {},
     "output_type": "execute_result"
    }
   ],
   "source": [
    "anon = output_df.loc[output_df['Commenter'].str.lower().str.strip() == 'anonymous']\n",
    "anon['merged'] = anon['pred'].replace('',np.NaN).fillna(anon['label'])\n",
    "anon.groupby('merged')['CommentID'].count()"
   ]
  },
  {
   "cell_type": "code",
   "execution_count": 25,
   "metadata": {},
   "outputs": [
    {
     "data": {
      "text/plain": [
       "(32030, 8)"
      ]
     },
     "execution_count": 25,
     "metadata": {},
     "output_type": "execute_result"
    }
   ],
   "source": [
    "anon.shape"
   ]
  },
  {
   "cell_type": "markdown",
   "metadata": {},
   "source": [
    "## Timeseries"
   ]
  },
  {
   "cell_type": "code",
   "execution_count": 26,
   "metadata": {},
   "outputs": [
    {
     "data": {
      "image/png": "[encoded data removed]",
      "text/plain": [
       "<Figure size 720x360 with 1 Axes>"
      ]
     },
     "metadata": {
      "needs_background": "light"
     },
     "output_type": "display_data"
    }
   ],
   "source": [
    "anon_ts = anon.set_index('Date').groupby([pd.Grouper(freq='1h'), 'merged']).count().loc[:,['Comment']].reset_index()\n",
    "\n",
    "fig, ax = plt.subplots(figsize=(10,5))\n",
    "sns.lineplot(x = 'Date', y = 'Comment', data = anon_ts, hue = 'merged', ax=ax)\n",
    "ax.set_title('Anonymous comments on Youngkin school trans policy', fontsize=14)\n",
    "plt.savefig(\"images/anon_ts.png\", facecolor='white')\n",
    "plt.show()"
   ]
  },
  {
   "cell_type": "code",
   "execution_count": 61,
   "metadata": {},
   "outputs": [
    {
     "data": {
      "text/html": [
       "<div>\n",
       "<style scoped>\n",
       "    .dataframe tbody tr th:only-of-type {\n",
       "        vertical-align: middle;\n",
       "    }\n",
       "\n",
       "    .dataframe tbody tr th {\n",
       "        vertical-align: top;\n",
       "    }\n",
       "\n",
       "    .dataframe thead th {\n",
       "        text-align: right;\n",
       "    }\n",
       "</style>\n",
       "<table border=\"1\" class=\"dataframe\">\n",
       "  <thead>\n",
       "    <tr style=\"text-align: right;\">\n",
       "      <th></th>\n",
       "      <th></th>\n",
       "      <th>count</th>\n",
       "      <th>min_date</th>\n",
       "      <th>max_date</th>\n",
       "      <th>range</th>\n",
       "    </tr>\n",
       "    <tr>\n",
       "      <th>Comment Title</th>\n",
       "      <th>Comment</th>\n",
       "      <th></th>\n",
       "      <th></th>\n",
       "      <th></th>\n",
       "      <th></th>\n",
       "    </tr>\n",
       "  </thead>\n",
       "  <tbody>\n",
       "    <tr>\n",
       "      <th>SUPPORT</th>\n",
       "      <th>SUPPORT</th>\n",
       "      <td>42</td>\n",
       "      <td>2022-09-27 09:52:00</td>\n",
       "      <td>2022-09-27 09:58:00</td>\n",
       "      <td>0 days 00:06:00</td>\n",
       "    </tr>\n",
       "    <tr>\n",
       "      <th>Oppose</th>\n",
       "      <th>Oppose</th>\n",
       "      <td>37</td>\n",
       "      <td>2022-09-26 20:21:00</td>\n",
       "      <td>2022-09-29 20:09:00</td>\n",
       "      <td>2 days 23:48:00</td>\n",
       "    </tr>\n",
       "    <tr>\n",
       "      <th>FULLY SUPPORT!!!</th>\n",
       "      <th>FULLY SUPPORT!!!</th>\n",
       "      <td>32</td>\n",
       "      <td>2022-09-26 20:51:00</td>\n",
       "      <td>2022-09-28 18:19:00</td>\n",
       "      <td>1 days 21:28:00</td>\n",
       "    </tr>\n",
       "    <tr>\n",
       "      <th>Strongly support Youngkin</th>\n",
       "      <th>Thank you</th>\n",
       "      <td>32</td>\n",
       "      <td>2022-09-26 21:03:00</td>\n",
       "      <td>2022-09-28 17:59:00</td>\n",
       "      <td>1 days 20:56:00</td>\n",
       "    </tr>\n",
       "    <tr>\n",
       "      <th>Fully support!!!</th>\n",
       "      <th>Our family fully supports this! Thank you Youngkin!</th>\n",
       "      <td>31</td>\n",
       "      <td>2022-09-26 21:31:00</td>\n",
       "      <td>2022-09-28 21:20:00</td>\n",
       "      <td>1 days 23:49:00</td>\n",
       "    </tr>\n",
       "    <tr>\n",
       "      <th>Strongly support a parents right to raise their child.</th>\n",
       "      <th>School systems are not medical professionals that are in the profession of diagnosing gender dysphoria in children. School systems do not pay the medical bills of these children.</th>\n",
       "      <td>31</td>\n",
       "      <td>2022-09-26 20:11:00</td>\n",
       "      <td>2022-09-28 17:15:00</td>\n",
       "      <td>1 days 21:04:00</td>\n",
       "    </tr>\n",
       "    <tr>\n",
       "      <th>I strongly support this. As a young woman</th>\n",
       "      <th>I want to feel safe in my sport and bathrooms.</th>\n",
       "      <td>31</td>\n",
       "      <td>2022-09-27 17:47:00</td>\n",
       "      <td>2022-09-28 19:11:00</td>\n",
       "      <td>1 days 01:24:00</td>\n",
       "    </tr>\n",
       "    <tr>\n",
       "      <th>I support</th>\n",
       "      <th>This is not something that should be pushed in schools. No little girl should have to feel uncomfortable because men can go into same restrooms as them. If we allow this than in the future pedophiles will be able to demand same rights and that is unacceptable!</th>\n",
       "      <td>30</td>\n",
       "      <td>2022-09-27 16:19:00</td>\n",
       "      <td>2022-09-28 21:12:00</td>\n",
       "      <td>1 days 04:53:00</td>\n",
       "    </tr>\n",
       "    <tr>\n",
       "      <th>Strongly support</th>\n",
       "      <th>Please help all children be safe. Transgender students in restrooms has resulted in assaults. Assigned restrooms for those with special needs should be available. At the high school where I taught</th>\n",
       "      <td>30</td>\n",
       "      <td>2022-09-27 17:27:00</td>\n",
       "      <td>2022-09-28 19:49:00</td>\n",
       "      <td>1 days 02:22:00</td>\n",
       "    </tr>\n",
       "    <tr>\n",
       "      <th>Stop the abuse of children support this policy</th>\n",
       "      <th>Thank you</th>\n",
       "      <td>30</td>\n",
       "      <td>2022-09-26 21:00:00</td>\n",
       "      <td>2022-09-28 19:52:00</td>\n",
       "      <td>1 days 22:52:00</td>\n",
       "    </tr>\n",
       "  </tbody>\n",
       "</table>\n",
       "</div>"
      ],
      "text/plain": [
       "                                                                                                       count  \\\n",
       "Comment Title                                      Comment                                                     \n",
       "SUPPORT                                            SUPPORT                                                42   \n",
       "Oppose                                             Oppose                                                 37   \n",
       "FULLY SUPPORT!!!                                   FULLY SUPPORT!!!                                       32   \n",
       "Strongly support Youngkin                          Thank you                                              32   \n",
       "Fully support!!!                                   Our family fully supports this! Thank you Young...     31   \n",
       "Strongly support a parents right to raise their... School systems are not medical professionals th...     31   \n",
       "I strongly support this. As a young woman          I want to feel safe in my sport and bathrooms.         31   \n",
       "I support                                          This is not something that should be pushed in ...     30   \n",
       "Strongly support                                   Please help all children be safe. Transgender s...     30   \n",
       "Stop the abuse of children support this policy     Thank you                                              30   \n",
       "\n",
       "                                                                                                                 min_date  \\\n",
       "Comment Title                                      Comment                                                                  \n",
       "SUPPORT                                            SUPPORT                                            2022-09-27 09:52:00   \n",
       "Oppose                                             Oppose                                             2022-09-26 20:21:00   \n",
       "FULLY SUPPORT!!!                                   FULLY SUPPORT!!!                                   2022-09-26 20:51:00   \n",
       "Strongly support Youngkin                          Thank you                                          2022-09-26 21:03:00   \n",
       "Fully support!!!                                   Our family fully supports this! Thank you Young... 2022-09-26 21:31:00   \n",
       "Strongly support a parents right to raise their... School systems are not medical professionals th... 2022-09-26 20:11:00   \n",
       "I strongly support this. As a young woman          I want to feel safe in my sport and bathrooms.     2022-09-27 17:47:00   \n",
       "I support                                          This is not something that should be pushed in ... 2022-09-27 16:19:00   \n",
       "Strongly support                                   Please help all children be safe. Transgender s... 2022-09-27 17:27:00   \n",
       "Stop the abuse of children support this policy     Thank you                                          2022-09-26 21:00:00   \n",
       "\n",
       "                                                                                                                 max_date  \\\n",
       "Comment Title                                      Comment                                                                  \n",
       "SUPPORT                                            SUPPORT                                            2022-09-27 09:58:00   \n",
       "Oppose                                             Oppose                                             2022-09-29 20:09:00   \n",
       "FULLY SUPPORT!!!                                   FULLY SUPPORT!!!                                   2022-09-28 18:19:00   \n",
       "Strongly support Youngkin                          Thank you                                          2022-09-28 17:59:00   \n",
       "Fully support!!!                                   Our family fully supports this! Thank you Young... 2022-09-28 21:20:00   \n",
       "Strongly support a parents right to raise their... School systems are not medical professionals th... 2022-09-28 17:15:00   \n",
       "I strongly support this. As a young woman          I want to feel safe in my sport and bathrooms.     2022-09-28 19:11:00   \n",
       "I support                                          This is not something that should be pushed in ... 2022-09-28 21:12:00   \n",
       "Strongly support                                   Please help all children be safe. Transgender s... 2022-09-28 19:49:00   \n",
       "Stop the abuse of children support this policy     Thank you                                          2022-09-28 19:52:00   \n",
       "\n",
       "                                                                                                                range  \n",
       "Comment Title                                      Comment                                                             \n",
       "SUPPORT                                            SUPPORT                                            0 days 00:06:00  \n",
       "Oppose                                             Oppose                                             2 days 23:48:00  \n",
       "FULLY SUPPORT!!!                                   FULLY SUPPORT!!!                                   1 days 21:28:00  \n",
       "Strongly support Youngkin                          Thank you                                          1 days 20:56:00  \n",
       "Fully support!!!                                   Our family fully supports this! Thank you Young... 1 days 23:49:00  \n",
       "Strongly support a parents right to raise their... School systems are not medical professionals th... 1 days 21:04:00  \n",
       "I strongly support this. As a young woman          I want to feel safe in my sport and bathrooms.     1 days 01:24:00  \n",
       "I support                                          This is not something that should be pushed in ... 1 days 04:53:00  \n",
       "Strongly support                                   Please help all children be safe. Transgender s... 1 days 02:22:00  \n",
       "Stop the abuse of children support this policy     Thank you                                          1 days 22:52:00  "
      ]
     },
     "execution_count": 61,
     "metadata": {},
     "output_type": "execute_result"
    }
   ],
   "source": [
    "anon_dups = anon.groupby(['Comment Title','Comment']).agg({\"CommentID\":'count','Date':['min','max']})\n",
    "anon_dups.columns = ['count','min_date','max_date']\n",
    "anon_dups['range'] = (anon_dups['max_date'] - anon_dups['min_date'])\n",
    "anon_dups.sort_values('count', ascending=False).head(10)"
   ]
  },
  {
   "cell_type": "code",
   "execution_count": 275,
   "metadata": {},
   "outputs": [
    {
     "data": {
      "text/plain": [
       "<AxesSubplot:>"
      ]
     },
     "execution_count": 275,
     "metadata": {},
     "output_type": "execute_result"
    },
    {
     "data": {
      "image/png": "[encoded data removed]",
      "text/plain": [
       "<Figure size 432x288 with 1 Axes>"
      ]
     },
     "metadata": {
      "needs_background": "light"
     },
     "output_type": "display_data"
    }
   ],
   "source": [
    "anon_dups['count'].hist()"
   ]
  },
  {
   "cell_type": "code",
   "execution_count": 62,
   "metadata": {},
   "outputs": [],
   "source": [
    "# drop dups with <5\n",
    "anon_dups.reset_index(inplace=True)\n",
    "anon_dups = anon_dups.loc[(anon_dups['count']>5)]\n",
    "anon_dups.set_index(['Comment Title','Comment'], inplace=True)"
   ]
  },
  {
   "cell_type": "code",
   "execution_count": 63,
   "metadata": {},
   "outputs": [
    {
     "data": {
      "text/html": [
       "<div>\n",
       "<style scoped>\n",
       "    .dataframe tbody tr th:only-of-type {\n",
       "        vertical-align: middle;\n",
       "    }\n",
       "\n",
       "    .dataframe tbody tr th {\n",
       "        vertical-align: top;\n",
       "    }\n",
       "\n",
       "    .dataframe thead th {\n",
       "        text-align: right;\n",
       "    }\n",
       "</style>\n",
       "<table border=\"1\" class=\"dataframe\">\n",
       "  <thead>\n",
       "    <tr style=\"text-align: right;\">\n",
       "      <th></th>\n",
       "      <th></th>\n",
       "      <th>count</th>\n",
       "      <th>min_date</th>\n",
       "      <th>max_date</th>\n",
       "      <th>range</th>\n",
       "    </tr>\n",
       "    <tr>\n",
       "      <th>Comment Title</th>\n",
       "      <th>Comment</th>\n",
       "      <th></th>\n",
       "      <th></th>\n",
       "      <th></th>\n",
       "      <th></th>\n",
       "    </tr>\n",
       "  </thead>\n",
       "  <tbody>\n",
       "    <tr>\n",
       "      <th>SUPPORT</th>\n",
       "      <th>SUPPORT</th>\n",
       "      <td>42</td>\n",
       "      <td>2022-09-27 09:52:00</td>\n",
       "      <td>2022-09-27 09:58:00</td>\n",
       "      <td>0 days 00:06:00</td>\n",
       "    </tr>\n",
       "    <tr>\n",
       "      <th>Oppose</th>\n",
       "      <th>Oppose</th>\n",
       "      <td>37</td>\n",
       "      <td>2022-09-26 20:21:00</td>\n",
       "      <td>2022-09-29 20:09:00</td>\n",
       "      <td>2 days 23:48:00</td>\n",
       "    </tr>\n",
       "    <tr>\n",
       "      <th>FULLY SUPPORT!!!</th>\n",
       "      <th>FULLY SUPPORT!!!</th>\n",
       "      <td>32</td>\n",
       "      <td>2022-09-26 20:51:00</td>\n",
       "      <td>2022-09-28 18:19:00</td>\n",
       "      <td>1 days 21:28:00</td>\n",
       "    </tr>\n",
       "    <tr>\n",
       "      <th>Strongly support Youngkin</th>\n",
       "      <th>Thank you</th>\n",
       "      <td>32</td>\n",
       "      <td>2022-09-26 21:03:00</td>\n",
       "      <td>2022-09-28 17:59:00</td>\n",
       "      <td>1 days 20:56:00</td>\n",
       "    </tr>\n",
       "    <tr>\n",
       "      <th>Strongly support a parents right to raise their child.</th>\n",
       "      <th>School systems are not medical professionals that are in the profession of diagnosing gender dysphoria in children. School systems do not pay the medical bills of these children.</th>\n",
       "      <td>31</td>\n",
       "      <td>2022-09-26 20:11:00</td>\n",
       "      <td>2022-09-28 17:15:00</td>\n",
       "      <td>1 days 21:04:00</td>\n",
       "    </tr>\n",
       "  </tbody>\n",
       "</table>\n",
       "</div>"
      ],
      "text/plain": [
       "                                                                                                       count  \\\n",
       "Comment Title                                      Comment                                                     \n",
       "SUPPORT                                            SUPPORT                                                42   \n",
       "Oppose                                             Oppose                                                 37   \n",
       "FULLY SUPPORT!!!                                   FULLY SUPPORT!!!                                       32   \n",
       "Strongly support Youngkin                          Thank you                                              32   \n",
       "Strongly support a parents right to raise their... School systems are not medical professionals th...     31   \n",
       "\n",
       "                                                                                                                 min_date  \\\n",
       "Comment Title                                      Comment                                                                  \n",
       "SUPPORT                                            SUPPORT                                            2022-09-27 09:52:00   \n",
       "Oppose                                             Oppose                                             2022-09-26 20:21:00   \n",
       "FULLY SUPPORT!!!                                   FULLY SUPPORT!!!                                   2022-09-26 20:51:00   \n",
       "Strongly support Youngkin                          Thank you                                          2022-09-26 21:03:00   \n",
       "Strongly support a parents right to raise their... School systems are not medical professionals th... 2022-09-26 20:11:00   \n",
       "\n",
       "                                                                                                                 max_date  \\\n",
       "Comment Title                                      Comment                                                                  \n",
       "SUPPORT                                            SUPPORT                                            2022-09-27 09:58:00   \n",
       "Oppose                                             Oppose                                             2022-09-29 20:09:00   \n",
       "FULLY SUPPORT!!!                                   FULLY SUPPORT!!!                                   2022-09-28 18:19:00   \n",
       "Strongly support Youngkin                          Thank you                                          2022-09-28 17:59:00   \n",
       "Strongly support a parents right to raise their... School systems are not medical professionals th... 2022-09-28 17:15:00   \n",
       "\n",
       "                                                                                                                range  \n",
       "Comment Title                                      Comment                                                             \n",
       "SUPPORT                                            SUPPORT                                            0 days 00:06:00  \n",
       "Oppose                                             Oppose                                             2 days 23:48:00  \n",
       "FULLY SUPPORT!!!                                   FULLY SUPPORT!!!                                   1 days 21:28:00  \n",
       "Strongly support Youngkin                          Thank you                                          1 days 20:56:00  \n",
       "Strongly support a parents right to raise their... School systems are not medical professionals th... 1 days 21:04:00  "
      ]
     },
     "execution_count": 63,
     "metadata": {},
     "output_type": "execute_result"
    }
   ],
   "source": [
    "anon_dups.sort_values('count', ascending=False).head(5)\n"
   ]
  },
  {
   "cell_type": "code",
   "execution_count": 64,
   "metadata": {},
   "outputs": [
    {
     "name": "stdout",
     "output_type": "stream",
     "text": [
      "6563\n"
     ]
    }
   ],
   "source": [
    "# drop duplicates from Anon set\n",
    "anon.set_index(['Comment Title','Comment'], inplace=True)\n",
    "print(anon.loc[anon.index.isin(anon_dups.index)].shape[0]) # number of duplicates entered by bots ~18000\n",
    "anon = anon.loc[~anon.index.isin(anon_dups.index)]\n",
    "anon.reset_index(inplace=True)"
   ]
  },
  {
   "cell_type": "code",
   "execution_count": null,
   "metadata": {},
   "outputs": [],
   "source": []
  },
  {
   "cell_type": "code",
   "execution_count": 68,
   "metadata": {},
   "outputs": [
    {
     "data": {
      "image/png": "[encoded data removed]",
      "text/plain": [
       "<Figure size 720x360 with 1 Axes>"
      ]
     },
     "metadata": {
      "needs_background": "light"
     },
     "output_type": "display_data"
    }
   ],
   "source": [
    "anon_ts = anon.set_index('Date').groupby([pd.Grouper(freq='1h'), 'merged']).count().loc[:,['Comment']].reset_index()\n",
    "\n",
    "fig, ax = plt.subplots(figsize=(10,5))\n",
    "sns.lineplot(x = 'Date', y = 'Comment', data = anon_ts, hue = 'merged', ax=ax)\n",
    "fig.suptitle('Anonymous comments on Youngkin school trans policy', fontsize=14)\n",
    "ax.set_title('(bots removed)')\n",
    "plt.savefig(\"images/anon_ts_nobots.png\", facecolor='white')\n",
    "plt.show()"
   ]
  },
  {
   "cell_type": "code",
   "execution_count": 69,
   "metadata": {},
   "outputs": [
    {
     "data": {
      "text/html": [
       "<div>\n",
       "<style scoped>\n",
       "    .dataframe tbody tr th:only-of-type {\n",
       "        vertical-align: middle;\n",
       "    }\n",
       "\n",
       "    .dataframe tbody tr th {\n",
       "        vertical-align: top;\n",
       "    }\n",
       "\n",
       "    .dataframe thead th {\n",
       "        text-align: right;\n",
       "    }\n",
       "</style>\n",
       "<table border=\"1\" class=\"dataframe\">\n",
       "  <thead>\n",
       "    <tr style=\"text-align: right;\">\n",
       "      <th></th>\n",
       "      <th>Comment Title</th>\n",
       "      <th>Comment</th>\n",
       "      <th>CommentID</th>\n",
       "      <th>Commenter</th>\n",
       "      <th>Date</th>\n",
       "      <th>label</th>\n",
       "      <th>pred</th>\n",
       "      <th>merged</th>\n",
       "    </tr>\n",
       "  </thead>\n",
       "  <tbody>\n",
       "    <tr>\n",
       "      <th>2753</th>\n",
       "      <td>As a Christian who loves all people, I cannot ...</td>\n",
       "      <td>Bad law.</td>\n",
       "      <td>153596.0</td>\n",
       "      <td>Anonymous</td>\n",
       "      <td>2022-09-28 02:01:00</td>\n",
       "      <td>Support</td>\n",
       "      <td></td>\n",
       "      <td>Support</td>\n",
       "    </tr>\n",
       "    <tr>\n",
       "      <th>2754</th>\n",
       "      <td>Fully support this.</td>\n",
       "      <td>Support!</td>\n",
       "      <td>153599.0</td>\n",
       "      <td>Anonymous</td>\n",
       "      <td>2022-09-28 02:01:00</td>\n",
       "      <td>Support</td>\n",
       "      <td></td>\n",
       "      <td>Support</td>\n",
       "    </tr>\n",
       "    <tr>\n",
       "      <th>2758</th>\n",
       "      <td>I support parents rights.</td>\n",
       "      <td>It's completely ridiculous that anyone is oppo...</td>\n",
       "      <td>153625.0</td>\n",
       "      <td>Anonymous</td>\n",
       "      <td>2022-09-28 02:06:00</td>\n",
       "      <td>Support</td>\n",
       "      <td></td>\n",
       "      <td>Support</td>\n",
       "    </tr>\n",
       "    <tr>\n",
       "      <th>2759</th>\n",
       "      <td>what a horribly hateful law. I do NOT support</td>\n",
       "      <td>bad law.</td>\n",
       "      <td>153627.0</td>\n",
       "      <td>Anonymous</td>\n",
       "      <td>2022-09-28 02:06:00</td>\n",
       "      <td>Support</td>\n",
       "      <td></td>\n",
       "      <td>Support</td>\n",
       "    </tr>\n",
       "    <tr>\n",
       "      <th>2760</th>\n",
       "      <td>you cannot be Christain and support this!</td>\n",
       "      <td>don't pass.</td>\n",
       "      <td>153636.0</td>\n",
       "      <td>Anonymous</td>\n",
       "      <td>2022-09-28 02:08:00</td>\n",
       "      <td>Support</td>\n",
       "      <td></td>\n",
       "      <td>Support</td>\n",
       "    </tr>\n",
       "    <tr>\n",
       "      <th>2761</th>\n",
       "      <td>I am a teacher and I do NOT support this. I wi...</td>\n",
       "      <td>NO!</td>\n",
       "      <td>153648.0</td>\n",
       "      <td>Anonymous</td>\n",
       "      <td>2022-09-28 02:10:00</td>\n",
       "      <td>Support</td>\n",
       "      <td></td>\n",
       "      <td>Support</td>\n",
       "    </tr>\n",
       "    <tr>\n",
       "      <th>2763</th>\n",
       "      <td>Strongly support</td>\n",
       "      <td>Strongly support. Parents don't hand over pare...</td>\n",
       "      <td>153669.0</td>\n",
       "      <td>Anonymous</td>\n",
       "      <td>2022-09-28 02:15:00</td>\n",
       "      <td>Support</td>\n",
       "      <td></td>\n",
       "      <td>Support</td>\n",
       "    </tr>\n",
       "    <tr>\n",
       "      <th>2764</th>\n",
       "      <td>100% Support Parents Rights</td>\n",
       "      <td>They can change their name “ pronouns “  every...</td>\n",
       "      <td>153698.0</td>\n",
       "      <td>Anonymous</td>\n",
       "      <td>2022-09-28 02:20:00</td>\n",
       "      <td>Support</td>\n",
       "      <td></td>\n",
       "      <td>Support</td>\n",
       "    </tr>\n",
       "    <tr>\n",
       "      <th>2765</th>\n",
       "      <td>100% support Governor Youngkin's Model Policies</td>\n",
       "      <td>I'm am so glad to see some common sense in Ric...</td>\n",
       "      <td>153711.0</td>\n",
       "      <td>Anonymous</td>\n",
       "      <td>2022-09-28 02:23:00</td>\n",
       "      <td>Support</td>\n",
       "      <td></td>\n",
       "      <td>Support</td>\n",
       "    </tr>\n",
       "    <tr>\n",
       "      <th>2767</th>\n",
       "      <td>100% Support for Gov Youngkin’s  Commonsense P...</td>\n",
       "      <td>Governor Youngkin’s policy is reasonable and p...</td>\n",
       "      <td>153808.0</td>\n",
       "      <td>Anonymous</td>\n",
       "      <td>2022-09-28 02:46:00</td>\n",
       "      <td>Support</td>\n",
       "      <td></td>\n",
       "      <td>Support</td>\n",
       "    </tr>\n",
       "    <tr>\n",
       "      <th>2774</th>\n",
       "      <td>100% support</td>\n",
       "      <td>Parental rights are a cornerstone in democracy...</td>\n",
       "      <td>154180.0</td>\n",
       "      <td>Anonymous</td>\n",
       "      <td>2022-09-28 04:13:00</td>\n",
       "      <td>Support</td>\n",
       "      <td></td>\n",
       "      <td>Support</td>\n",
       "    </tr>\n",
       "    <tr>\n",
       "      <th>2775</th>\n",
       "      <td>Complete support</td>\n",
       "      <td>100% support</td>\n",
       "      <td>154206.0</td>\n",
       "      <td>Anonymous</td>\n",
       "      <td>2022-09-28 04:19:00</td>\n",
       "      <td>Support</td>\n",
       "      <td></td>\n",
       "      <td>Support</td>\n",
       "    </tr>\n",
       "    <tr>\n",
       "      <th>2781</th>\n",
       "      <td>DO Not Support This Evil Policy</td>\n",
       "      <td>This policy is evil. The people who came up wi...</td>\n",
       "      <td>154475.0</td>\n",
       "      <td>Anonymous</td>\n",
       "      <td>2022-09-28 05:19:00</td>\n",
       "      <td>Support</td>\n",
       "      <td></td>\n",
       "      <td>Support</td>\n",
       "    </tr>\n",
       "    <tr>\n",
       "      <th>2783</th>\n",
       "      <td>Mother and Teacher-Support This</td>\n",
       "      <td>Parents are entitled to rights to ensure the s...</td>\n",
       "      <td>154546.0</td>\n",
       "      <td>Anonymous</td>\n",
       "      <td>2022-09-28 05:35:00</td>\n",
       "      <td>Support</td>\n",
       "      <td></td>\n",
       "      <td>Support</td>\n",
       "    </tr>\n",
       "    <tr>\n",
       "      <th>2785</th>\n",
       "      <td>Support</td>\n",
       "      <td>I support this plan proposed by Governor Young...</td>\n",
       "      <td>154588.0</td>\n",
       "      <td>Anonymous</td>\n",
       "      <td>2022-09-28 05:44:00</td>\n",
       "      <td>Support</td>\n",
       "      <td></td>\n",
       "      <td>Support</td>\n",
       "    </tr>\n",
       "    <tr>\n",
       "      <th>2787</th>\n",
       "      <td>Fully Support Youngkin</td>\n",
       "      <td>It was terrifying when the previous governor t...</td>\n",
       "      <td>154617.0</td>\n",
       "      <td>Anonymous</td>\n",
       "      <td>2022-09-28 05:51:00</td>\n",
       "      <td>Support</td>\n",
       "      <td></td>\n",
       "      <td>Support</td>\n",
       "    </tr>\n",
       "    <tr>\n",
       "      <th>2788</th>\n",
       "      <td>Fully Support</td>\n",
       "      <td>I fully support this, it supports children and...</td>\n",
       "      <td>154626.0</td>\n",
       "      <td>Anonymous</td>\n",
       "      <td>2022-09-28 05:53:00</td>\n",
       "      <td>Support</td>\n",
       "      <td></td>\n",
       "      <td>Support</td>\n",
       "    </tr>\n",
       "    <tr>\n",
       "      <th>2789</th>\n",
       "      <td>Enthusiastically SUPPORT</td>\n",
       "      <td>I enthusiastically support Gov. Youngkin's pro...</td>\n",
       "      <td>154627.0</td>\n",
       "      <td>Anonymous</td>\n",
       "      <td>2022-09-28 05:53:00</td>\n",
       "      <td>Support</td>\n",
       "      <td></td>\n",
       "      <td>Support</td>\n",
       "    </tr>\n",
       "    <tr>\n",
       "      <th>2790</th>\n",
       "      <td>I support this</td>\n",
       "      <td>As a parent of a 13 &amp; 10 year old I support th...</td>\n",
       "      <td>154637.0</td>\n",
       "      <td>Anonymous</td>\n",
       "      <td>2022-09-28 05:54:00</td>\n",
       "      <td>Support</td>\n",
       "      <td></td>\n",
       "      <td>Support</td>\n",
       "    </tr>\n",
       "    <tr>\n",
       "      <th>2792</th>\n",
       "      <td>I support parental rights and our governor.</td>\n",
       "      <td>Parents must retain the God given right to rai...</td>\n",
       "      <td>154660.0</td>\n",
       "      <td>Anonymous</td>\n",
       "      <td>2022-09-28 05:59:00</td>\n",
       "      <td>Support</td>\n",
       "      <td></td>\n",
       "      <td>Support</td>\n",
       "    </tr>\n",
       "  </tbody>\n",
       "</table>\n",
       "</div>"
      ],
      "text/plain": [
       "                                          Comment Title  \\\n",
       "2753  As a Christian who loves all people, I cannot ...   \n",
       "2754                                Fully support this.   \n",
       "2758                          I support parents rights.   \n",
       "2759      what a horribly hateful law. I do NOT support   \n",
       "2760          you cannot be Christain and support this!   \n",
       "2761  I am a teacher and I do NOT support this. I wi...   \n",
       "2763                                   Strongly support   \n",
       "2764                        100% Support Parents Rights   \n",
       "2765    100% support Governor Youngkin's Model Policies   \n",
       "2767  100% Support for Gov Youngkin’s  Commonsense P...   \n",
       "2774                                       100% support   \n",
       "2775                                   Complete support   \n",
       "2781                    DO Not Support This Evil Policy   \n",
       "2783                    Mother and Teacher-Support This   \n",
       "2785                                            Support   \n",
       "2787                             Fully Support Youngkin   \n",
       "2788                                      Fully Support   \n",
       "2789                           Enthusiastically SUPPORT   \n",
       "2790                                     I support this   \n",
       "2792        I support parental rights and our governor.   \n",
       "\n",
       "                                                Comment  CommentID  Commenter  \\\n",
       "2753                                           Bad law.   153596.0  Anonymous   \n",
       "2754                                           Support!   153599.0  Anonymous   \n",
       "2758  It's completely ridiculous that anyone is oppo...   153625.0  Anonymous   \n",
       "2759                                           bad law.   153627.0  Anonymous   \n",
       "2760                                        don't pass.   153636.0  Anonymous   \n",
       "2761                                                NO!   153648.0  Anonymous   \n",
       "2763  Strongly support. Parents don't hand over pare...   153669.0  Anonymous   \n",
       "2764  They can change their name “ pronouns “  every...   153698.0  Anonymous   \n",
       "2765  I'm am so glad to see some common sense in Ric...   153711.0  Anonymous   \n",
       "2767  Governor Youngkin’s policy is reasonable and p...   153808.0  Anonymous   \n",
       "2774  Parental rights are a cornerstone in democracy...   154180.0  Anonymous   \n",
       "2775                                       100% support   154206.0  Anonymous   \n",
       "2781  This policy is evil. The people who came up wi...   154475.0  Anonymous   \n",
       "2783  Parents are entitled to rights to ensure the s...   154546.0  Anonymous   \n",
       "2785  I support this plan proposed by Governor Young...   154588.0  Anonymous   \n",
       "2787  It was terrifying when the previous governor t...   154617.0  Anonymous   \n",
       "2788  I fully support this, it supports children and...   154626.0  Anonymous   \n",
       "2789  I enthusiastically support Gov. Youngkin's pro...   154627.0  Anonymous   \n",
       "2790  As a parent of a 13 & 10 year old I support th...   154637.0  Anonymous   \n",
       "2792  Parents must retain the God given right to rai...   154660.0  Anonymous   \n",
       "\n",
       "                    Date    label pred   merged  \n",
       "2753 2022-09-28 02:01:00  Support       Support  \n",
       "2754 2022-09-28 02:01:00  Support       Support  \n",
       "2758 2022-09-28 02:06:00  Support       Support  \n",
       "2759 2022-09-28 02:06:00  Support       Support  \n",
       "2760 2022-09-28 02:08:00  Support       Support  \n",
       "2761 2022-09-28 02:10:00  Support       Support  \n",
       "2763 2022-09-28 02:15:00  Support       Support  \n",
       "2764 2022-09-28 02:20:00  Support       Support  \n",
       "2765 2022-09-28 02:23:00  Support       Support  \n",
       "2767 2022-09-28 02:46:00  Support       Support  \n",
       "2774 2022-09-28 04:13:00  Support       Support  \n",
       "2775 2022-09-28 04:19:00  Support       Support  \n",
       "2781 2022-09-28 05:19:00  Support       Support  \n",
       "2783 2022-09-28 05:35:00  Support       Support  \n",
       "2785 2022-09-28 05:44:00  Support       Support  \n",
       "2787 2022-09-28 05:51:00  Support       Support  \n",
       "2788 2022-09-28 05:53:00  Support       Support  \n",
       "2789 2022-09-28 05:53:00  Support       Support  \n",
       "2790 2022-09-28 05:54:00  Support       Support  \n",
       "2792 2022-09-28 05:59:00  Support       Support  "
      ]
     },
     "execution_count": 69,
     "metadata": {},
     "output_type": "execute_result"
    }
   ],
   "source": [
    "anon.loc[(anon['merged']=='Support') & (anon['Date'] > datetime(2022, 9, 28, 2, 0)) ].head(20)"
   ]
  },
  {
   "cell_type": "code",
   "execution_count": 74,
   "metadata": {},
   "outputs": [
    {
     "data": {
      "text/html": [
       "<div>\n",
       "<style scoped>\n",
       "    .dataframe tbody tr th:only-of-type {\n",
       "        vertical-align: middle;\n",
       "    }\n",
       "\n",
       "    .dataframe tbody tr th {\n",
       "        vertical-align: top;\n",
       "    }\n",
       "\n",
       "    .dataframe thead th {\n",
       "        text-align: right;\n",
       "    }\n",
       "</style>\n",
       "<table border=\"1\" class=\"dataframe\">\n",
       "  <thead>\n",
       "    <tr style=\"text-align: right;\">\n",
       "      <th></th>\n",
       "      <th>Comment Title</th>\n",
       "      <th>Comment</th>\n",
       "      <th>CommentID</th>\n",
       "      <th>Commenter</th>\n",
       "      <th>Date</th>\n",
       "      <th>label</th>\n",
       "      <th>pred</th>\n",
       "      <th>merged</th>\n",
       "    </tr>\n",
       "  </thead>\n",
       "  <tbody>\n",
       "    <tr>\n",
       "      <th>0</th>\n",
       "      <td>Support!</td>\n",
       "      <td>As a public school teacher, THANK YOU! I don't...</td>\n",
       "      <td>128971.0</td>\n",
       "      <td>Anonymous</td>\n",
       "      <td>2022-09-26 07:31:00</td>\n",
       "      <td>Support</td>\n",
       "      <td></td>\n",
       "      <td>Support</td>\n",
       "    </tr>\n",
       "    <tr>\n",
       "      <th>1</th>\n",
       "      <td>Strongly support all people being who they are</td>\n",
       "      <td>Everyone is different. Everyone deserves to be...</td>\n",
       "      <td>128976.0</td>\n",
       "      <td>Anonymous</td>\n",
       "      <td>2022-09-26 07:38:00</td>\n",
       "      <td>Support</td>\n",
       "      <td></td>\n",
       "      <td>Support</td>\n",
       "    </tr>\n",
       "    <tr>\n",
       "      <th>2</th>\n",
       "      <td>This is about saving student lives - oppose th...</td>\n",
       "      <td>I strongly oppose these changes. Having worked...</td>\n",
       "      <td>128984.0</td>\n",
       "      <td>Anonymous</td>\n",
       "      <td>2022-09-26 07:54:00</td>\n",
       "      <td>Oppose</td>\n",
       "      <td></td>\n",
       "      <td>Oppose</td>\n",
       "    </tr>\n",
       "    <tr>\n",
       "      <th>3</th>\n",
       "      <td>Strongly Oppose The Changes</td>\n",
       "      <td>Correct pronoun and name use is incredibly cri...</td>\n",
       "      <td>128992.0</td>\n",
       "      <td>Anonymous</td>\n",
       "      <td>2022-09-26 08:12:00</td>\n",
       "      <td>Oppose</td>\n",
       "      <td></td>\n",
       "      <td>Oppose</td>\n",
       "    </tr>\n",
       "    <tr>\n",
       "      <th>4</th>\n",
       "      <td>Strongly Oppose</td>\n",
       "      <td>Leave the evangelists to do their Work outside...</td>\n",
       "      <td>128998.0</td>\n",
       "      <td>Anonymous</td>\n",
       "      <td>2022-09-26 08:18:00</td>\n",
       "      <td>Oppose</td>\n",
       "      <td></td>\n",
       "      <td>Oppose</td>\n",
       "    </tr>\n",
       "    <tr>\n",
       "      <th>...</th>\n",
       "      <td>...</td>\n",
       "      <td>...</td>\n",
       "      <td>...</td>\n",
       "      <td>...</td>\n",
       "      <td>...</td>\n",
       "      <td>...</td>\n",
       "      <td>...</td>\n",
       "      <td>...</td>\n",
       "    </tr>\n",
       "    <tr>\n",
       "      <th>7112</th>\n",
       "      <td>Trans people</td>\n",
       "      <td>I feel that trans people should be able to dec...</td>\n",
       "      <td>181340.0</td>\n",
       "      <td>Anonymous</td>\n",
       "      <td>2022-09-29 19:49:00</td>\n",
       "      <td>Unknown</td>\n",
       "      <td>Oppose</td>\n",
       "      <td>Oppose</td>\n",
       "    </tr>\n",
       "    <tr>\n",
       "      <th>7113</th>\n",
       "      <td>Best practice</td>\n",
       "      <td>As a professional educator, this is a very sim...</td>\n",
       "      <td>181348.0</td>\n",
       "      <td>Anonymous</td>\n",
       "      <td>2022-09-29 19:52:00</td>\n",
       "      <td>Unknown</td>\n",
       "      <td>Support</td>\n",
       "      <td>Support</td>\n",
       "    </tr>\n",
       "    <tr>\n",
       "      <th>7114</th>\n",
       "      <td>100% agree with Governor Youngkin‘s policies o...</td>\n",
       "      <td>Honest doctors know that gender dysphoria is s...</td>\n",
       "      <td>181382.0</td>\n",
       "      <td>Anonymous</td>\n",
       "      <td>2022-09-29 20:13:00</td>\n",
       "      <td>Unknown</td>\n",
       "      <td>Support</td>\n",
       "      <td>Support</td>\n",
       "    </tr>\n",
       "    <tr>\n",
       "      <th>7115</th>\n",
       "      <td>Duh, repeat post much?</td>\n",
       "      <td>Free for all</td>\n",
       "      <td>181396.0</td>\n",
       "      <td>Anonymous</td>\n",
       "      <td>2022-09-29 20:20:00</td>\n",
       "      <td>Unknown</td>\n",
       "      <td>Oppose</td>\n",
       "      <td>Oppose</td>\n",
       "    </tr>\n",
       "    <tr>\n",
       "      <th>7116</th>\n",
       "      <td>Transgender and non-binary youth need to be pr...</td>\n",
       "      <td>Transgender and non-binary youth need to be pr...</td>\n",
       "      <td>181403.0</td>\n",
       "      <td>Anonymous</td>\n",
       "      <td>2022-09-29 20:27:00</td>\n",
       "      <td>Unknown</td>\n",
       "      <td>Oppose</td>\n",
       "      <td>Oppose</td>\n",
       "    </tr>\n",
       "  </tbody>\n",
       "</table>\n",
       "<p>7117 rows × 8 columns</p>\n",
       "</div>"
      ],
      "text/plain": [
       "                                          Comment Title  \\\n",
       "0                                              Support!   \n",
       "1        Strongly support all people being who they are   \n",
       "2     This is about saving student lives - oppose th...   \n",
       "3                           Strongly Oppose The Changes   \n",
       "4                                       Strongly Oppose   \n",
       "...                                                 ...   \n",
       "7112                                       Trans people   \n",
       "7113                                      Best practice   \n",
       "7114  100% agree with Governor Youngkin‘s policies o...   \n",
       "7115                             Duh, repeat post much?   \n",
       "7116  Transgender and non-binary youth need to be pr...   \n",
       "\n",
       "                                                Comment  CommentID  Commenter  \\\n",
       "0     As a public school teacher, THANK YOU! I don't...   128971.0  Anonymous   \n",
       "1     Everyone is different. Everyone deserves to be...   128976.0  Anonymous   \n",
       "2     I strongly oppose these changes. Having worked...   128984.0  Anonymous   \n",
       "3     Correct pronoun and name use is incredibly cri...   128992.0  Anonymous   \n",
       "4     Leave the evangelists to do their Work outside...   128998.0  Anonymous   \n",
       "...                                                 ...        ...        ...   \n",
       "7112  I feel that trans people should be able to dec...   181340.0  Anonymous   \n",
       "7113  As a professional educator, this is a very sim...   181348.0  Anonymous   \n",
       "7114  Honest doctors know that gender dysphoria is s...   181382.0  Anonymous   \n",
       "7115                                       Free for all   181396.0  Anonymous   \n",
       "7116  Transgender and non-binary youth need to be pr...   181403.0  Anonymous   \n",
       "\n",
       "                    Date    label     pred   merged  \n",
       "0    2022-09-26 07:31:00  Support           Support  \n",
       "1    2022-09-26 07:38:00  Support           Support  \n",
       "2    2022-09-26 07:54:00   Oppose            Oppose  \n",
       "3    2022-09-26 08:12:00   Oppose            Oppose  \n",
       "4    2022-09-26 08:18:00   Oppose            Oppose  \n",
       "...                  ...      ...      ...      ...  \n",
       "7112 2022-09-29 19:49:00  Unknown   Oppose   Oppose  \n",
       "7113 2022-09-29 19:52:00  Unknown  Support  Support  \n",
       "7114 2022-09-29 20:13:00  Unknown  Support  Support  \n",
       "7115 2022-09-29 20:20:00  Unknown   Oppose   Oppose  \n",
       "7116 2022-09-29 20:27:00  Unknown   Oppose   Oppose  \n",
       "\n",
       "[7117 rows x 8 columns]"
      ]
     },
     "execution_count": 74,
     "metadata": {},
     "output_type": "execute_result"
    }
   ],
   "source": [
    "anon"
   ]
  },
  {
   "cell_type": "code",
   "execution_count": 84,
   "metadata": {},
   "outputs": [
    {
     "name": "stdout",
     "output_type": "stream",
     "text": [
      "Duplicates removed: 32629\n",
      "Remaining records: 19600\n"
     ]
    }
   ],
   "source": [
    "# drop duplicates from Output set\n",
    "dups = output_df.groupby(['Comment Title','Comment']).count().loc[:,['CommentID']]\n",
    "dups = dups.loc[dups['CommentID']>5] # 396 comments\n",
    "output_df.set_index(['Comment Title','Comment'], inplace=True)\n",
    "print(f\"Duplicates removed: {output_df.loc[output_df.index.isin(dups.index)].shape[0]}\") \n",
    "output_df = output_df.loc[~output_df.index.isin(dups.index)]\n",
    "output_df.reset_index(inplace=True)\n",
    "print(f\"Remaining records: {output_df.shape[0]}\")"
   ]
  },
  {
   "cell_type": "code",
   "execution_count": 86,
   "metadata": {},
   "outputs": [
    {
     "data": {
      "image/png": "[encoded data removed]",
      "text/plain": [
       "<Figure size 720x360 with 1 Axes>"
      ]
     },
     "metadata": {
      "needs_background": "light"
     },
     "output_type": "display_data"
    }
   ],
   "source": [
    "output_df['merged'] = output_df['pred'].replace('',np.NaN).fillna(output_df['label'])\n",
    "out_ts = output_df.set_index('Date').groupby([pd.Grouper(freq='1h'), 'merged']).count().loc[:,['Comment']].reset_index()\n",
    "\n",
    "fig, ax = plt.subplots(figsize=(10,5))\n",
    "sns.lineplot(x = 'Date', y = 'Comment', data = out_ts, hue = 'merged', ax=ax)\n",
    "fig.suptitle('All comments on Youngkin school trans policy', fontsize=14)\n",
    "ax.set_title('(duplicates removed)')\n",
    "plt.savefig(\"images/all_ts.png\", facecolor='white')\n",
    "plt.show()"
   ]
  },
  {
   "cell_type": "code",
   "execution_count": 92,
   "metadata": {},
   "outputs": [],
   "source": [
    "counts = output_df.groupby('merged')['CommentID'].count()\n",
    "data = counts.values\n",
    "labels = list(counts.index)\n",
    "\n",
    "\n",
    "output_orig = train.loc[:,['CommentID','Commenter','Comment Title','Comment','Date','label','pred']]\n",
    "output_orig = output_orig.append(unk.loc[:,['CommentID','Commenter','Comment Title','Comment','Date','label','pred']])\n",
    "output_orig['merged'] = output_orig['pred'].replace('',np.NaN).fillna(output_orig['label'])\n",
    "counts2 = output_orig.groupby('merged')['CommentID'].count()\n",
    "data2 = counts2.values\n",
    "labels2 = list(counts2.index)"
   ]
  },
  {
   "cell_type": "code",
   "execution_count": 100,
   "metadata": {},
   "outputs": [
    {
     "data": {
      "image/png": "[encoded data removed]",
      "text/plain": [
       "<Figure size 720x360 with 2 Axes>"
      ]
     },
     "metadata": {},
     "output_type": "display_data"
    }
   ],
   "source": [
    "def make_autopct(values):\n",
    "    def my_autopct(pct):\n",
    "        total = sum(values)\n",
    "        val = int(round(pct*total/100.0))\n",
    "        return '{p:.0f}%  ({v:d})'.format(p=pct,v=val)\n",
    "    return my_autopct\n",
    "\n",
    "\n",
    "#define Seaborn color palette to use\n",
    "colors = sns.color_palette('pastel')[0:5]\n",
    "\n",
    "#create pie chart\n",
    "fig, (ax1,ax2) = plt.subplots(1,2, figsize=(10,5))\n",
    "fig.suptitle('Predicted comments on Youngkin school trans policy', fontsize=14)\n",
    "\n",
    "ax1.pie(data, labels = labels, colors = colors, autopct=make_autopct(data))\n",
    "ax1.set_title('Bots removed')\n",
    "\n",
    "ax2.pie(data2, labels = labels2, colors = colors, autopct=make_autopct(data2))\n",
    "ax2.set_title('With bots')\n",
    "\n",
    "plt.savefig(\"images/outcome_pie.png\", facecolor='white')\n",
    "plt.show()"
   ]
  },
  {
   "cell_type": "code",
   "execution_count": 98,
   "metadata": {},
   "outputs": [
    {
     "data": {
      "text/plain": [
       "(52229, 8)"
      ]
     },
     "execution_count": 98,
     "metadata": {},
     "output_type": "execute_result"
    }
   ],
   "source": [
    "output_orig.shape"
   ]
  },
  {
   "cell_type": "code",
   "execution_count": null,
   "metadata": {},
   "outputs": [],
   "source": []
  }
 ],
 "metadata": {
  "kernelspec": {
   "display_name": "Python 3",
   "language": "python",
   "name": "python3"
  },
  "language_info": {
   "codemirror_mode": {
    "name": "ipython",
    "version": 3
   },
   "file_extension": ".py",
   "mimetype": "text/x-python",
   "name": "python",
   "nbconvert_exporter": "python",
   "pygments_lexer": "ipython3",
   "version": "3.7.6"
  }
 },
 "nbformat": 4,
 "nbformat_minor": 5
}
