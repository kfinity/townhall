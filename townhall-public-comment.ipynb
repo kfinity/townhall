{
 "cells": [
  {
   "cell_type": "code",
   "execution_count": 1,
   "id": "70da313a",
   "metadata": {},
   "outputs": [],
   "source": [
    "import requests\n",
    "from bs4 import BeautifulSoup\n",
    "import pandas as pd\n",
    "import numpy as np\n",
    "import re\n",
    "from datetime import datetime\n",
    "import os\n",
    "import time\n",
    "import unicodedata\n",
    "import matplotlib.pyplot as plt\n",
    "import seaborn as sns"
   ]
  },
  {
   "cell_type": "code",
   "execution_count": 2,
   "id": "9e0c6ec7",
   "metadata": {},
   "outputs": [],
   "source": [
    "main_url=\"https://townhall.virginia.gov/L/Comments.cfm?GdocForumID=1953\"\n",
    "\n",
    "orig_url=\"https://townhall.virginia.gov/L/GDocForum.cfm?GDocForumID=452\""
   ]
  },
  {
   "cell_type": "markdown",
   "id": "5d499be5",
   "metadata": {},
   "source": [
    "## Alt method - full comments page, paginated"
   ]
  },
  {
   "cell_type": "code",
   "execution_count": 3,
   "id": "451ed439",
   "metadata": {},
   "outputs": [],
   "source": [
    "base_url = \"https://townhall.virginia.gov/L/ViewComments.cfm?GdocForumID=1953\"\n",
    "params = {\"vPage\": 1,\n",
    "  \"vPerPage\": 999,\n",
    "  \"sub1\": \"go\"}"
   ]
  },
  {
   "cell_type": "code",
   "execution_count": 6,
   "id": "32e99d20",
   "metadata": {},
   "outputs": [
    {
     "name": "stdout",
     "output_type": "stream",
     "text": [
      "page 1/72\n",
      "page 2/72\n",
      "page 3/72\n",
      "page 4/72\n",
      "page 5/72\n",
      "page 6/72\n",
      "page 7/72\n",
      "page 8/72\n",
      "page 9/72\n",
      "page 10/72\n",
      "page 11/72\n",
      "page 12/72\n",
      "page 13/72\n",
      "page 14/72\n",
      "page 15/72\n",
      "page 16/72\n",
      "page 17/72\n",
      "page 18/72\n",
      "page 19/72\n",
      "page 20/72\n",
      "page 21/72\n",
      "page 22/72\n",
      "page 23/72\n",
      "page 24/72\n",
      "page 25/72\n",
      "page 26/72\n",
      "page 27/72\n",
      "page 28/72\n",
      "page 29/72\n",
      "page 30/72\n",
      "page 31/72\n",
      "page 32/72\n",
      "page 33/72\n",
      "page 34/72\n",
      "page 35/72\n",
      "page 36/72\n",
      "page 37/72\n",
      "page 38/72\n",
      "page 39/72\n",
      "page 40/72\n",
      "page 41/72\n",
      "page 42/72\n",
      "page 43/72\n",
      "page 44/72\n",
      "page 45/72\n",
      "page 46/72\n",
      "page 47/72\n",
      "page 48/72\n",
      "page 49/72\n",
      "page 50/72\n",
      "page 51/72\n",
      "page 52/72\n",
      "page 53/72\n",
      "page 54/72\n",
      "page 55/72\n",
      "page 56/72\n",
      "page 57/72\n",
      "page 58/72\n",
      "page 59/72\n",
      "page 60/72\n",
      "page 61/72\n",
      "page 62/72\n",
      "page 63/72\n",
      "page 64/72\n",
      "page 65/72\n",
      "page 66/72\n",
      "page 67/72\n",
      "page 68/72\n",
      "page 69/72\n",
      "page 70/72\n",
      "page 71/72\n",
      "page 72/72\n"
     ]
    }
   ],
   "source": [
    "pagecount = 99\n",
    "params['vPage'] = 1\n",
    "\n",
    "dfc = pd.DataFrame()\n",
    "\n",
    "while params['vPage'] <= pagecount:\n",
    "    r = requests.post(base_url, data=params)\n",
    "    soup = BeautifulSoup(r.text, \"lxml\")\n",
    "    try:\n",
    "        pagecount = int(soup.find(id=\"page\").div.a.text)\n",
    "    except:\n",
    "        pagecount = 0\n",
    "    print(f\"page {params['vPage']}/{pagecount}\")\n",
    "    params['vPage'] += 1\n",
    "    boxes = soup.find_all(attrs={\"class\": \"Cbox\"})\n",
    "    for box in boxes:\n",
    "        comment = {\"Date\": unicodedata.normalize(\"NFKD\", box.contents[1].div.get_text(strip=True)),\n",
    "           \"Commenter\": box.contents[3].contents[2].strip(),\n",
    "           \"Comment Title\": box.contents[3].find_all('strong')[1].get_text(strip=True),\n",
    "           \"Comment\": box.find(attrs={\"class\":\"divComment\"}).get_text(strip=True),\n",
    "           \"CommentID\": int(box.find(attrs={\"class\":\"linklight\"}).get_text(strip=True))}\n",
    "        dfc = dfc.append(comment, ignore_index=True)\n"
   ]
  },
  {
   "cell_type": "code",
   "execution_count": 7,
   "id": "566cccde",
   "metadata": {},
   "outputs": [
    {
     "name": "stdout",
     "output_type": "stream",
     "text": [
      "(71298, 5)\n",
      "71260\n"
     ]
    }
   ],
   "source": [
    "print(dfc.shape)\n",
    "print(len(dfc['CommentID'].unique()))"
   ]
  },
  {
   "cell_type": "code",
   "execution_count": 8,
   "id": "cc932df7",
   "metadata": {},
   "outputs": [],
   "source": [
    "dfc.to_csv('all_comments.csv')"
   ]
  },
  {
   "cell_type": "code",
   "execution_count": null,
   "id": "dd06ac2d",
   "metadata": {},
   "outputs": [],
   "source": []
  },
  {
   "cell_type": "code",
   "execution_count": 6,
   "id": "268b9cbf",
   "metadata": {},
   "outputs": [],
   "source": [
    "# read back from csv"
   ]
  },
  {
   "cell_type": "code",
   "execution_count": 9,
   "id": "66fa1f43",
   "metadata": {},
   "outputs": [],
   "source": [
    "# feature eng"
   ]
  },
  {
   "cell_type": "code",
   "execution_count": 10,
   "id": "c1117782",
   "metadata": {},
   "outputs": [],
   "source": [
    "dfc['Date'] = pd.to_datetime(dfc['Date'], errors='coerce') "
   ]
  },
  {
   "cell_type": "code",
   "execution_count": 11,
   "id": "3de769c8",
   "metadata": {},
   "outputs": [],
   "source": [
    "dfc['alltext'] = (dfc['Comment Title'] + ' ' + dfc['Comment']).str.lower()"
   ]
  },
  {
   "cell_type": "code",
   "execution_count": 12,
   "id": "b23b412d",
   "metadata": {},
   "outputs": [],
   "source": [
    "dfc['support'] = dfc['Comment Title'].str.lower().str.contains('support')\n",
    "dfc['oppose'] = dfc['Comment Title'].str.lower().str.contains('oppose')"
   ]
  },
  {
   "cell_type": "code",
   "execution_count": 13,
   "id": "d916ed6d",
   "metadata": {},
   "outputs": [
    {
     "name": "stdout",
     "output_type": "stream",
     "text": [
      "Total: 71298 comments\n",
      "Using title alone...\n",
      "Support policy: 15077 comments, avg length 275\n",
      "Oppose policy: 23065 comments, avg length 314\n",
      "Unclear: 33513 comments, avg length 317\n",
      "Intersect: 357\n"
     ]
    }
   ],
   "source": [
    "\n",
    "print(f\"Total: {dfc.shape[0]} comments\")\n",
    "print(\"Using title alone...\")\n",
    "print(f\"Support policy: {dfc['support'].sum()} comments, avg length {dfc.loc[dfc['support']]['Comment'].str.len().mean():.0f}\")\n",
    "print(f\"Oppose policy: {dfc['oppose'].sum()} comments, avg length {dfc.loc[dfc['oppose']]['Comment'].str.len().mean():.0f}\")\n",
    "print(f\"Unclear: {(~dfc['support'] & ~dfc['oppose']).sum()} comments, avg length {dfc.loc[(~dfc['support'] & ~dfc['oppose'])]['Comment'].str.len().mean():.0f}\")\n",
    "print(f\"Intersect: {(dfc['support'] & dfc['oppose']).sum()}\")"
   ]
  },
  {
   "cell_type": "code",
   "execution_count": null,
   "id": "0c433d99",
   "metadata": {},
   "outputs": [],
   "source": []
  },
  {
   "cell_type": "code",
   "execution_count": 14,
   "id": "c680fd27",
   "metadata": {},
   "outputs": [],
   "source": [
    "# process text field\n",
    "cleantext = []\n",
    "\n",
    "for sentence in dfc['alltext']:\n",
    "    # Remove all the special characters\n",
    "    processed_feature = re.sub(r'\\W', ' ', str(sentence))\n",
    "\n",
    "    # remove all single characters\n",
    "    processed_feature= re.sub(r'\\s+[a-zA-Z]\\s+', ' ', processed_feature)\n",
    "\n",
    "    # Remove single characters from the start\n",
    "    processed_feature = re.sub(r'\\^[a-zA-Z]\\s+', ' ', processed_feature) \n",
    "\n",
    "    # Substituting multiple spaces with single space\n",
    "    processed_feature = re.sub(r'\\s+', ' ', processed_feature, flags=re.I)\n",
    "\n",
    "    # Removing prefixed 'b'\n",
    "    processed_feature = re.sub(r'^b\\s+', '', processed_feature)\n",
    "\n",
    "    # Converting to Lowercase\n",
    "    processed_feature = processed_feature.lower()\n",
    "\n",
    "    cleantext.append(processed_feature)\n",
    "    \n",
    "dfc['cleantext'] = cleantext"
   ]
  },
  {
   "cell_type": "code",
   "execution_count": 15,
   "id": "f141d30c",
   "metadata": {},
   "outputs": [],
   "source": [
    "# segment training data from unknown data\n",
    "\n",
    "dfc['label'] = 'Unknown'\n",
    "dfc.loc[dfc['support'],'label'] = 'Support'\n",
    "dfc.loc[dfc['oppose'],'label'] = 'Oppose'\n",
    "dfc.loc[(dfc['support'] & dfc['oppose']), 'label'] = 'Unknown'\n",
    "\n",
    "train = dfc.loc[dfc['label'] != 'Unknown',:]\n",
    "unk = dfc.loc[dfc['label'] == 'Unknown']"
   ]
  },
  {
   "cell_type": "code",
   "execution_count": 16,
   "id": "10a679ca",
   "metadata": {},
   "outputs": [],
   "source": [
    "from nltk.corpus import stopwords\n",
    "from sklearn.feature_extraction.text import TfidfVectorizer\n",
    "\n",
    "vectorizer = TfidfVectorizer(max_features=2500, min_df=7, max_df=0.8, stop_words=stopwords.words('english'))\n",
    "processed_features = vectorizer.fit_transform(train['cleantext']).toarray()\n"
   ]
  },
  {
   "cell_type": "code",
   "execution_count": 17,
   "id": "4eeeb2bb",
   "metadata": {},
   "outputs": [],
   "source": [
    "from sklearn.model_selection import train_test_split\n",
    "X_train, X_test, y_train, y_test = train_test_split(processed_features, train['label'], test_size=0.2, random_state=0)"
   ]
  },
  {
   "cell_type": "code",
   "execution_count": 18,
   "id": "c4a5dbdb",
   "metadata": {},
   "outputs": [
    {
     "data": {
      "text/plain": [
       "RandomForestClassifier(n_estimators=200, random_state=0)"
      ]
     },
     "execution_count": 18,
     "metadata": {},
     "output_type": "execute_result"
    }
   ],
   "source": [
    "from sklearn.ensemble import RandomForestClassifier\n",
    "\n",
    "text_classifier = RandomForestClassifier(n_estimators=200, random_state=0)\n",
    "text_classifier.fit(X_train, y_train)"
   ]
  },
  {
   "cell_type": "code",
   "execution_count": 19,
   "id": "ca138e77",
   "metadata": {},
   "outputs": [],
   "source": [
    "predictions = text_classifier.predict(X_test)"
   ]
  },
  {
   "cell_type": "code",
   "execution_count": 20,
   "id": "ecbcb70c",
   "metadata": {},
   "outputs": [
    {
     "name": "stdout",
     "output_type": "stream",
     "text": [
      "[[4513    4]\n",
      " [  73 2896]]\n",
      "              precision    recall  f1-score   support\n",
      "\n",
      "      Oppose       0.98      1.00      0.99      4517\n",
      "     Support       1.00      0.98      0.99      2969\n",
      "\n",
      "    accuracy                           0.99      7486\n",
      "   macro avg       0.99      0.99      0.99      7486\n",
      "weighted avg       0.99      0.99      0.99      7486\n",
      "\n",
      "0.989714133048357\n"
     ]
    }
   ],
   "source": [
    "from sklearn.metrics import classification_report, confusion_matrix, accuracy_score\n",
    "\n",
    "print(confusion_matrix(y_test,predictions))\n",
    "print(classification_report(y_test,predictions))\n",
    "print(accuracy_score(y_test, predictions))"
   ]
  },
  {
   "cell_type": "code",
   "execution_count": 21,
   "id": "613cfc7a",
   "metadata": {},
   "outputs": [
    {
     "name": "stderr",
     "output_type": "stream",
     "text": [
      "<ipython-input-21-d550d6c9a0ca>:3: SettingWithCopyWarning: \n",
      "A value is trying to be set on a copy of a slice from a DataFrame.\n",
      "Try using .loc[row_indexer,col_indexer] = value instead\n",
      "\n",
      "See the caveats in the documentation: https://pandas.pydata.org/pandas-docs/stable/user_guide/indexing.html#returning-a-view-versus-a-copy\n",
      "  unk['pred'] = real_preds\n"
     ]
    }
   ],
   "source": [
    "unk_input = vectorizer.transform(unk['cleantext']).toarray() # don't re-fit the vectorizer!\n",
    "real_preds = text_classifier.predict(unk_input)\n",
    "unk['pred'] = real_preds"
   ]
  },
  {
   "cell_type": "code",
   "execution_count": 22,
   "id": "2ed743b2",
   "metadata": {},
   "outputs": [
    {
     "data": {
      "text/html": [
       "<div>\n",
       "<style scoped>\n",
       "    .dataframe tbody tr th:only-of-type {\n",
       "        vertical-align: middle;\n",
       "    }\n",
       "\n",
       "    .dataframe tbody tr th {\n",
       "        vertical-align: top;\n",
       "    }\n",
       "\n",
       "    .dataframe thead th {\n",
       "        text-align: right;\n",
       "    }\n",
       "</style>\n",
       "<table border=\"1\" class=\"dataframe\">\n",
       "  <thead>\n",
       "    <tr style=\"text-align: right;\">\n",
       "      <th></th>\n",
       "      <th>Comment</th>\n",
       "      <th>Comment Title</th>\n",
       "      <th>CommentID</th>\n",
       "      <th>Commenter</th>\n",
       "      <th>Date</th>\n",
       "      <th>alltext</th>\n",
       "      <th>support</th>\n",
       "      <th>oppose</th>\n",
       "      <th>cleantext</th>\n",
       "      <th>label</th>\n",
       "    </tr>\n",
       "    <tr>\n",
       "      <th>pred</th>\n",
       "      <th></th>\n",
       "      <th></th>\n",
       "      <th></th>\n",
       "      <th></th>\n",
       "      <th></th>\n",
       "      <th></th>\n",
       "      <th></th>\n",
       "      <th></th>\n",
       "      <th></th>\n",
       "      <th></th>\n",
       "    </tr>\n",
       "  </thead>\n",
       "  <tbody>\n",
       "    <tr>\n",
       "      <th>Oppose</th>\n",
       "      <td>26770</td>\n",
       "      <td>26770</td>\n",
       "      <td>26770</td>\n",
       "      <td>26770</td>\n",
       "      <td>26770</td>\n",
       "      <td>26770</td>\n",
       "      <td>26770</td>\n",
       "      <td>26770</td>\n",
       "      <td>26770</td>\n",
       "      <td>26770</td>\n",
       "    </tr>\n",
       "    <tr>\n",
       "      <th>Support</th>\n",
       "      <td>7100</td>\n",
       "      <td>7100</td>\n",
       "      <td>7100</td>\n",
       "      <td>7100</td>\n",
       "      <td>7100</td>\n",
       "      <td>7100</td>\n",
       "      <td>7100</td>\n",
       "      <td>7100</td>\n",
       "      <td>7100</td>\n",
       "      <td>7100</td>\n",
       "    </tr>\n",
       "  </tbody>\n",
       "</table>\n",
       "</div>"
      ],
      "text/plain": [
       "         Comment  Comment Title  CommentID  Commenter   Date  alltext  \\\n",
       "pred                                                                    \n",
       "Oppose     26770          26770      26770      26770  26770    26770   \n",
       "Support     7100           7100       7100       7100   7100     7100   \n",
       "\n",
       "         support  oppose  cleantext  label  \n",
       "pred                                        \n",
       "Oppose     26770   26770      26770  26770  \n",
       "Support     7100    7100       7100   7100  "
      ]
     },
     "execution_count": 22,
     "metadata": {},
     "output_type": "execute_result"
    }
   ],
   "source": [
    "unk.groupby(['pred']).count()"
   ]
  },
  {
   "cell_type": "code",
   "execution_count": 23,
   "id": "bb9b796d",
   "metadata": {},
   "outputs": [
    {
     "data": {
      "text/html": [
       "<div>\n",
       "<style scoped>\n",
       "    .dataframe tbody tr th:only-of-type {\n",
       "        vertical-align: middle;\n",
       "    }\n",
       "\n",
       "    .dataframe tbody tr th {\n",
       "        vertical-align: top;\n",
       "    }\n",
       "\n",
       "    .dataframe thead th {\n",
       "        text-align: right;\n",
       "    }\n",
       "</style>\n",
       "<table border=\"1\" class=\"dataframe\">\n",
       "  <thead>\n",
       "    <tr style=\"text-align: right;\">\n",
       "      <th></th>\n",
       "      <th>Comment</th>\n",
       "      <th>Comment Title</th>\n",
       "      <th>CommentID</th>\n",
       "      <th>Commenter</th>\n",
       "      <th>Date</th>\n",
       "      <th>alltext</th>\n",
       "      <th>support</th>\n",
       "      <th>oppose</th>\n",
       "      <th>cleantext</th>\n",
       "    </tr>\n",
       "    <tr>\n",
       "      <th>label</th>\n",
       "      <th></th>\n",
       "      <th></th>\n",
       "      <th></th>\n",
       "      <th></th>\n",
       "      <th></th>\n",
       "      <th></th>\n",
       "      <th></th>\n",
       "      <th></th>\n",
       "      <th></th>\n",
       "    </tr>\n",
       "  </thead>\n",
       "  <tbody>\n",
       "    <tr>\n",
       "      <th>Oppose</th>\n",
       "      <td>22708</td>\n",
       "      <td>22708</td>\n",
       "      <td>22708</td>\n",
       "      <td>22708</td>\n",
       "      <td>22708</td>\n",
       "      <td>22708</td>\n",
       "      <td>22708</td>\n",
       "      <td>22708</td>\n",
       "      <td>22708</td>\n",
       "    </tr>\n",
       "    <tr>\n",
       "      <th>Support</th>\n",
       "      <td>14720</td>\n",
       "      <td>14720</td>\n",
       "      <td>14720</td>\n",
       "      <td>14720</td>\n",
       "      <td>14720</td>\n",
       "      <td>14720</td>\n",
       "      <td>14720</td>\n",
       "      <td>14720</td>\n",
       "      <td>14720</td>\n",
       "    </tr>\n",
       "  </tbody>\n",
       "</table>\n",
       "</div>"
      ],
      "text/plain": [
       "         Comment  Comment Title  CommentID  Commenter   Date  alltext  \\\n",
       "label                                                                   \n",
       "Oppose     22708          22708      22708      22708  22708    22708   \n",
       "Support    14720          14720      14720      14720  14720    14720   \n",
       "\n",
       "         support  oppose  cleantext  \n",
       "label                                \n",
       "Oppose     22708   22708      22708  \n",
       "Support    14720   14720      14720  "
      ]
     },
     "execution_count": 23,
     "metadata": {},
     "output_type": "execute_result"
    }
   ],
   "source": [
    "train.groupby(['label']).count()"
   ]
  },
  {
   "cell_type": "code",
   "execution_count": 24,
   "id": "3a7ac537",
   "metadata": {},
   "outputs": [
    {
     "name": "stderr",
     "output_type": "stream",
     "text": [
      "<ipython-input-24-d4fb34fd6823>:1: SettingWithCopyWarning: \n",
      "A value is trying to be set on a copy of a slice from a DataFrame.\n",
      "Try using .loc[row_indexer,col_indexer] = value instead\n",
      "\n",
      "See the caveats in the documentation: https://pandas.pydata.org/pandas-docs/stable/user_guide/indexing.html#returning-a-view-versus-a-copy\n",
      "  train['pred'] = ''\n"
     ]
    }
   ],
   "source": [
    "train['pred'] = ''\n",
    "output_df = train.loc[:,['CommentID','Commenter','Comment Title','Comment','Date','label','pred']]\n",
    "output_df = output_df.append(unk.loc[:,['CommentID','Commenter','Comment Title','Comment','Date','label','pred']])"
   ]
  },
  {
   "cell_type": "code",
   "execution_count": 25,
   "id": "3040bccb",
   "metadata": {},
   "outputs": [],
   "source": [
    "output_df.to_csv('output.csv',index=False)"
   ]
  },
  {
   "cell_type": "code",
   "execution_count": 26,
   "id": "b37f1232",
   "metadata": {},
   "outputs": [
    {
     "name": "stderr",
     "output_type": "stream",
     "text": [
      "<ipython-input-26-4c0ba5a8c74c>:2: SettingWithCopyWarning: \n",
      "A value is trying to be set on a copy of a slice from a DataFrame.\n",
      "Try using .loc[row_indexer,col_indexer] = value instead\n",
      "\n",
      "See the caveats in the documentation: https://pandas.pydata.org/pandas-docs/stable/user_guide/indexing.html#returning-a-view-versus-a-copy\n",
      "  anon['merged'] = anon['pred'].replace('',np.NaN).fillna(anon['label'])\n"
     ]
    },
    {
     "data": {
      "text/plain": [
       "merged\n",
       "Oppose     26289\n",
       "Support    11605\n",
       "Name: CommentID, dtype: int64"
      ]
     },
     "execution_count": 26,
     "metadata": {},
     "output_type": "execute_result"
    }
   ],
   "source": [
    "anon = output_df.loc[output_df['Commenter'].str.lower().str.strip() == 'anonymous']\n",
    "anon['merged'] = anon['pred'].replace('',np.NaN).fillna(anon['label'])\n",
    "anon.groupby('merged')['CommentID'].count()"
   ]
  },
  {
   "cell_type": "code",
   "execution_count": 25,
   "id": "5e13cf74",
   "metadata": {},
   "outputs": [
    {
     "data": {
      "text/plain": [
       "(32030, 8)"
      ]
     },
     "execution_count": 25,
     "metadata": {},
     "output_type": "execute_result"
    }
   ],
   "source": [
    "anon.shape"
   ]
  },
  {
   "cell_type": "markdown",
   "id": "6c00baff",
   "metadata": {},
   "source": [
    "## Timeseries"
   ]
  },
  {
   "cell_type": "code",
   "execution_count": 27,
   "id": "8f55d3ca",
   "metadata": {},
   "outputs": [
    {
     "data": {
      "image/png": "[encoded data removed]",
      "text/plain": [
       "<Figure size 720x360 with 1 Axes>"
      ]
     },
     "metadata": {
      "needs_background": "light"
     },
     "output_type": "display_data"
    }
   ],
   "source": [
    "anon_ts = anon.set_index('Date').groupby([pd.Grouper(freq='1h'), 'merged']).count().loc[:,['Comment']].reset_index()\n",
    "\n",
    "fig, ax = plt.subplots(figsize=(10,5))\n",
    "sns.lineplot(x = 'Date', y = 'Comment', data = anon_ts, hue = 'merged', ax=ax)\n",
    "ax.set_title('Anonymous comments on Youngkin school trans policy', fontsize=14)\n",
    "plt.savefig(\"images/anon_ts.png\", facecolor='white')\n",
    "plt.show()"
   ]
  },
  {
   "cell_type": "code",
   "execution_count": 28,
   "id": "8b5ba5a0",
   "metadata": {},
   "outputs": [
    {
     "data": {
      "text/html": [
       "<div>\n",
       "<style scoped>\n",
       "    .dataframe tbody tr th:only-of-type {\n",
       "        vertical-align: middle;\n",
       "    }\n",
       "\n",
       "    .dataframe tbody tr th {\n",
       "        vertical-align: top;\n",
       "    }\n",
       "\n",
       "    .dataframe thead th {\n",
       "        text-align: right;\n",
       "    }\n",
       "</style>\n",
       "<table border=\"1\" class=\"dataframe\">\n",
       "  <thead>\n",
       "    <tr style=\"text-align: right;\">\n",
       "      <th></th>\n",
       "      <th></th>\n",
       "      <th>count</th>\n",
       "      <th>min_date</th>\n",
       "      <th>max_date</th>\n",
       "      <th>range</th>\n",
       "    </tr>\n",
       "    <tr>\n",
       "      <th>Comment Title</th>\n",
       "      <th>Comment</th>\n",
       "      <th></th>\n",
       "      <th></th>\n",
       "      <th></th>\n",
       "      <th></th>\n",
       "    </tr>\n",
       "  </thead>\n",
       "  <tbody>\n",
       "    <tr>\n",
       "      <th>Leave Trans Kids Alone</th>\n",
       "      <th>This will hurt kids.  Don't be mean, Youngkin!</th>\n",
       "      <td>4420</td>\n",
       "      <td>2022-09-28 20:01:00</td>\n",
       "      <td>2022-09-28 21:27:00</td>\n",
       "      <td>0 days 01:26:00</td>\n",
       "    </tr>\n",
       "    <tr>\n",
       "      <th>Strongly Oppose</th>\n",
       "      <th>This will hurt kids.  Don't be mean, Youngkin!</th>\n",
       "      <td>4224</td>\n",
       "      <td>2022-09-28 19:42:00</td>\n",
       "      <td>2022-09-28 21:27:00</td>\n",
       "      <td>0 days 01:45:00</td>\n",
       "    </tr>\n",
       "    <tr>\n",
       "      <th>Youngkin Hates</th>\n",
       "      <th>This will hurt kids.  Don't be mean, Youngkin!</th>\n",
       "      <td>2633</td>\n",
       "      <td>2022-09-28 20:01:00</td>\n",
       "      <td>2022-09-28 21:27:00</td>\n",
       "      <td>0 days 01:26:00</td>\n",
       "    </tr>\n",
       "    <tr>\n",
       "      <th>Glenn Youngkin Is A Bot</th>\n",
       "      <th>This will hurt kids.  Don't be mean, Youngkin!</th>\n",
       "      <td>1363</td>\n",
       "      <td>2022-09-28 20:08:00</td>\n",
       "      <td>2022-09-28 20:25:00</td>\n",
       "      <td>0 days 00:17:00</td>\n",
       "    </tr>\n",
       "    <tr>\n",
       "      <th>This Policy Makes The Baby Jesus Cry</th>\n",
       "      <th>This will hurt kids.  Don't be mean, Youngkin!</th>\n",
       "      <td>1070</td>\n",
       "      <td>2022-09-28 20:11:00</td>\n",
       "      <td>2022-09-28 20:25:00</td>\n",
       "      <td>0 days 00:14:00</td>\n",
       "    </tr>\n",
       "    <tr>\n",
       "      <th>Glenn Youngkin Wears A Hairpiece</th>\n",
       "      <th>This will hurt kids.  Don't be mean, Youngkin!</th>\n",
       "      <td>1065</td>\n",
       "      <td>2022-09-28 20:11:00</td>\n",
       "      <td>2022-09-28 20:25:00</td>\n",
       "      <td>0 days 00:14:00</td>\n",
       "    </tr>\n",
       "    <tr>\n",
       "      <th>Glenn Youngkin Smells Like Stale Farts</th>\n",
       "      <th>This will hurt kids.  Don't be mean, Youngkin!</th>\n",
       "      <td>812</td>\n",
       "      <td>2022-09-28 20:12:00</td>\n",
       "      <td>2022-09-28 20:25:00</td>\n",
       "      <td>0 days 00:13:00</td>\n",
       "    </tr>\n",
       "    <tr>\n",
       "      <th>LOCK YOUNGKIN UP</th>\n",
       "      <th>As anti american as you can get!</th>\n",
       "      <td>577</td>\n",
       "      <td>2022-09-28 10:18:00</td>\n",
       "      <td>2022-09-28 10:22:00</td>\n",
       "      <td>0 days 00:04:00</td>\n",
       "    </tr>\n",
       "    <tr>\n",
       "      <th>VOTE HIM OUT</th>\n",
       "      <th>This is cruel to our children</th>\n",
       "      <td>432</td>\n",
       "      <td>2022-09-28 10:12:00</td>\n",
       "      <td>2022-09-28 10:16:00</td>\n",
       "      <td>0 days 00:04:00</td>\n",
       "    </tr>\n",
       "    <tr>\n",
       "      <th>CRUELTY TO OUR CHILDREN</th>\n",
       "      <th>This is as mean as you can get.</th>\n",
       "      <td>316</td>\n",
       "      <td>2022-09-28 10:25:00</td>\n",
       "      <td>2022-09-28 10:28:00</td>\n",
       "      <td>0 days 00:03:00</td>\n",
       "    </tr>\n",
       "  </tbody>\n",
       "</table>\n",
       "</div>"
      ],
      "text/plain": [
       "                                                                                       count  \\\n",
       "Comment Title                          Comment                                                 \n",
       "Leave Trans Kids Alone                 This will hurt kids.  Don't be mean, Youngkin!   4420   \n",
       "Strongly Oppose                        This will hurt kids.  Don't be mean, Youngkin!   4224   \n",
       "Youngkin Hates                         This will hurt kids.  Don't be mean, Youngkin!   2633   \n",
       "Glenn Youngkin Is A Bot                This will hurt kids.  Don't be mean, Youngkin!   1363   \n",
       "This Policy Makes The Baby Jesus Cry   This will hurt kids.  Don't be mean, Youngkin!   1070   \n",
       "Glenn Youngkin Wears A Hairpiece       This will hurt kids.  Don't be mean, Youngkin!   1065   \n",
       "Glenn Youngkin Smells Like Stale Farts This will hurt kids.  Don't be mean, Youngkin!    812   \n",
       "LOCK YOUNGKIN UP                       As anti american as you can get!                  577   \n",
       "VOTE HIM OUT                           This is cruel to our children                     432   \n",
       "CRUELTY TO OUR CHILDREN                This is as mean as you can get.                   316   \n",
       "\n",
       "                                                                                                 min_date  \\\n",
       "Comment Title                          Comment                                                              \n",
       "Leave Trans Kids Alone                 This will hurt kids.  Don't be mean, Youngkin! 2022-09-28 20:01:00   \n",
       "Strongly Oppose                        This will hurt kids.  Don't be mean, Youngkin! 2022-09-28 19:42:00   \n",
       "Youngkin Hates                         This will hurt kids.  Don't be mean, Youngkin! 2022-09-28 20:01:00   \n",
       "Glenn Youngkin Is A Bot                This will hurt kids.  Don't be mean, Youngkin! 2022-09-28 20:08:00   \n",
       "This Policy Makes The Baby Jesus Cry   This will hurt kids.  Don't be mean, Youngkin! 2022-09-28 20:11:00   \n",
       "Glenn Youngkin Wears A Hairpiece       This will hurt kids.  Don't be mean, Youngkin! 2022-09-28 20:11:00   \n",
       "Glenn Youngkin Smells Like Stale Farts This will hurt kids.  Don't be mean, Youngkin! 2022-09-28 20:12:00   \n",
       "LOCK YOUNGKIN UP                       As anti american as you can get!               2022-09-28 10:18:00   \n",
       "VOTE HIM OUT                           This is cruel to our children                  2022-09-28 10:12:00   \n",
       "CRUELTY TO OUR CHILDREN                This is as mean as you can get.                2022-09-28 10:25:00   \n",
       "\n",
       "                                                                                                 max_date  \\\n",
       "Comment Title                          Comment                                                              \n",
       "Leave Trans Kids Alone                 This will hurt kids.  Don't be mean, Youngkin! 2022-09-28 21:27:00   \n",
       "Strongly Oppose                        This will hurt kids.  Don't be mean, Youngkin! 2022-09-28 21:27:00   \n",
       "Youngkin Hates                         This will hurt kids.  Don't be mean, Youngkin! 2022-09-28 21:27:00   \n",
       "Glenn Youngkin Is A Bot                This will hurt kids.  Don't be mean, Youngkin! 2022-09-28 20:25:00   \n",
       "This Policy Makes The Baby Jesus Cry   This will hurt kids.  Don't be mean, Youngkin! 2022-09-28 20:25:00   \n",
       "Glenn Youngkin Wears A Hairpiece       This will hurt kids.  Don't be mean, Youngkin! 2022-09-28 20:25:00   \n",
       "Glenn Youngkin Smells Like Stale Farts This will hurt kids.  Don't be mean, Youngkin! 2022-09-28 20:25:00   \n",
       "LOCK YOUNGKIN UP                       As anti american as you can get!               2022-09-28 10:22:00   \n",
       "VOTE HIM OUT                           This is cruel to our children                  2022-09-28 10:16:00   \n",
       "CRUELTY TO OUR CHILDREN                This is as mean as you can get.                2022-09-28 10:28:00   \n",
       "\n",
       "                                                                                                range  \n",
       "Comment Title                          Comment                                                         \n",
       "Leave Trans Kids Alone                 This will hurt kids.  Don't be mean, Youngkin! 0 days 01:26:00  \n",
       "Strongly Oppose                        This will hurt kids.  Don't be mean, Youngkin! 0 days 01:45:00  \n",
       "Youngkin Hates                         This will hurt kids.  Don't be mean, Youngkin! 0 days 01:26:00  \n",
       "Glenn Youngkin Is A Bot                This will hurt kids.  Don't be mean, Youngkin! 0 days 00:17:00  \n",
       "This Policy Makes The Baby Jesus Cry   This will hurt kids.  Don't be mean, Youngkin! 0 days 00:14:00  \n",
       "Glenn Youngkin Wears A Hairpiece       This will hurt kids.  Don't be mean, Youngkin! 0 days 00:14:00  \n",
       "Glenn Youngkin Smells Like Stale Farts This will hurt kids.  Don't be mean, Youngkin! 0 days 00:13:00  \n",
       "LOCK YOUNGKIN UP                       As anti american as you can get!               0 days 00:04:00  \n",
       "VOTE HIM OUT                           This is cruel to our children                  0 days 00:04:00  \n",
       "CRUELTY TO OUR CHILDREN                This is as mean as you can get.                0 days 00:03:00  "
      ]
     },
     "execution_count": 28,
     "metadata": {},
     "output_type": "execute_result"
    }
   ],
   "source": [
    "anon_dups = anon.groupby(['Comment Title','Comment']).agg({\"CommentID\":'count','Date':['min','max']})\n",
    "anon_dups.columns = ['count','min_date','max_date']\n",
    "anon_dups['range'] = (anon_dups['max_date'] - anon_dups['min_date'])\n",
    "anon_dups.sort_values('count', ascending=False).head(10)"
   ]
  },
  {
   "cell_type": "code",
   "execution_count": 275,
   "id": "01f5f245",
   "metadata": {},
   "outputs": [
    {
     "data": {
      "text/plain": [
       "<AxesSubplot:>"
      ]
     },
     "execution_count": 275,
     "metadata": {},
     "output_type": "execute_result"
    },
    {
     "data": {
      "image/png": "[encoded data removed]",
      "text/plain": [
       "<Figure size 432x288 with 1 Axes>"
      ]
     },
     "metadata": {
      "needs_background": "light"
     },
     "output_type": "display_data"
    }
   ],
   "source": [
    "anon_dups['count'].hist()"
   ]
  },
  {
   "cell_type": "code",
   "execution_count": 29,
   "id": "c50fec03",
   "metadata": {},
   "outputs": [],
   "source": [
    "# drop dups with >5\n",
    "anon_dups.reset_index(inplace=True)\n",
    "anon_dups = anon_dups.loc[(anon_dups['count']>5)]\n",
    "anon_dups.set_index(['Comment Title','Comment'], inplace=True)"
   ]
  },
  {
   "cell_type": "code",
   "execution_count": 30,
   "id": "9bf4e5d9",
   "metadata": {},
   "outputs": [
    {
     "data": {
      "text/html": [
       "<div>\n",
       "<style scoped>\n",
       "    .dataframe tbody tr th:only-of-type {\n",
       "        vertical-align: middle;\n",
       "    }\n",
       "\n",
       "    .dataframe tbody tr th {\n",
       "        vertical-align: top;\n",
       "    }\n",
       "\n",
       "    .dataframe thead th {\n",
       "        text-align: right;\n",
       "    }\n",
       "</style>\n",
       "<table border=\"1\" class=\"dataframe\">\n",
       "  <thead>\n",
       "    <tr style=\"text-align: right;\">\n",
       "      <th></th>\n",
       "      <th></th>\n",
       "      <th>count</th>\n",
       "      <th>min_date</th>\n",
       "      <th>max_date</th>\n",
       "      <th>range</th>\n",
       "    </tr>\n",
       "    <tr>\n",
       "      <th>Comment Title</th>\n",
       "      <th>Comment</th>\n",
       "      <th></th>\n",
       "      <th></th>\n",
       "      <th></th>\n",
       "      <th></th>\n",
       "    </tr>\n",
       "  </thead>\n",
       "  <tbody>\n",
       "    <tr>\n",
       "      <th>Leave Trans Kids Alone</th>\n",
       "      <th>This will hurt kids.  Don't be mean, Youngkin!</th>\n",
       "      <td>4420</td>\n",
       "      <td>2022-09-28 20:01:00</td>\n",
       "      <td>2022-09-28 21:27:00</td>\n",
       "      <td>0 days 01:26:00</td>\n",
       "    </tr>\n",
       "    <tr>\n",
       "      <th>Strongly Oppose</th>\n",
       "      <th>This will hurt kids.  Don't be mean, Youngkin!</th>\n",
       "      <td>4224</td>\n",
       "      <td>2022-09-28 19:42:00</td>\n",
       "      <td>2022-09-28 21:27:00</td>\n",
       "      <td>0 days 01:45:00</td>\n",
       "    </tr>\n",
       "    <tr>\n",
       "      <th>Youngkin Hates</th>\n",
       "      <th>This will hurt kids.  Don't be mean, Youngkin!</th>\n",
       "      <td>2633</td>\n",
       "      <td>2022-09-28 20:01:00</td>\n",
       "      <td>2022-09-28 21:27:00</td>\n",
       "      <td>0 days 01:26:00</td>\n",
       "    </tr>\n",
       "    <tr>\n",
       "      <th>Glenn Youngkin Is A Bot</th>\n",
       "      <th>This will hurt kids.  Don't be mean, Youngkin!</th>\n",
       "      <td>1363</td>\n",
       "      <td>2022-09-28 20:08:00</td>\n",
       "      <td>2022-09-28 20:25:00</td>\n",
       "      <td>0 days 00:17:00</td>\n",
       "    </tr>\n",
       "    <tr>\n",
       "      <th>This Policy Makes The Baby Jesus Cry</th>\n",
       "      <th>This will hurt kids.  Don't be mean, Youngkin!</th>\n",
       "      <td>1070</td>\n",
       "      <td>2022-09-28 20:11:00</td>\n",
       "      <td>2022-09-28 20:25:00</td>\n",
       "      <td>0 days 00:14:00</td>\n",
       "    </tr>\n",
       "  </tbody>\n",
       "</table>\n",
       "</div>"
      ],
      "text/plain": [
       "                                                                                     count  \\\n",
       "Comment Title                        Comment                                                 \n",
       "Leave Trans Kids Alone               This will hurt kids.  Don't be mean, Youngkin!   4420   \n",
       "Strongly Oppose                      This will hurt kids.  Don't be mean, Youngkin!   4224   \n",
       "Youngkin Hates                       This will hurt kids.  Don't be mean, Youngkin!   2633   \n",
       "Glenn Youngkin Is A Bot              This will hurt kids.  Don't be mean, Youngkin!   1363   \n",
       "This Policy Makes The Baby Jesus Cry This will hurt kids.  Don't be mean, Youngkin!   1070   \n",
       "\n",
       "                                                                                               min_date  \\\n",
       "Comment Title                        Comment                                                              \n",
       "Leave Trans Kids Alone               This will hurt kids.  Don't be mean, Youngkin! 2022-09-28 20:01:00   \n",
       "Strongly Oppose                      This will hurt kids.  Don't be mean, Youngkin! 2022-09-28 19:42:00   \n",
       "Youngkin Hates                       This will hurt kids.  Don't be mean, Youngkin! 2022-09-28 20:01:00   \n",
       "Glenn Youngkin Is A Bot              This will hurt kids.  Don't be mean, Youngkin! 2022-09-28 20:08:00   \n",
       "This Policy Makes The Baby Jesus Cry This will hurt kids.  Don't be mean, Youngkin! 2022-09-28 20:11:00   \n",
       "\n",
       "                                                                                               max_date  \\\n",
       "Comment Title                        Comment                                                              \n",
       "Leave Trans Kids Alone               This will hurt kids.  Don't be mean, Youngkin! 2022-09-28 21:27:00   \n",
       "Strongly Oppose                      This will hurt kids.  Don't be mean, Youngkin! 2022-09-28 21:27:00   \n",
       "Youngkin Hates                       This will hurt kids.  Don't be mean, Youngkin! 2022-09-28 21:27:00   \n",
       "Glenn Youngkin Is A Bot              This will hurt kids.  Don't be mean, Youngkin! 2022-09-28 20:25:00   \n",
       "This Policy Makes The Baby Jesus Cry This will hurt kids.  Don't be mean, Youngkin! 2022-09-28 20:25:00   \n",
       "\n",
       "                                                                                              range  \n",
       "Comment Title                        Comment                                                         \n",
       "Leave Trans Kids Alone               This will hurt kids.  Don't be mean, Youngkin! 0 days 01:26:00  \n",
       "Strongly Oppose                      This will hurt kids.  Don't be mean, Youngkin! 0 days 01:45:00  \n",
       "Youngkin Hates                       This will hurt kids.  Don't be mean, Youngkin! 0 days 01:26:00  \n",
       "Glenn Youngkin Is A Bot              This will hurt kids.  Don't be mean, Youngkin! 0 days 00:17:00  \n",
       "This Policy Makes The Baby Jesus Cry This will hurt kids.  Don't be mean, Youngkin! 0 days 00:14:00  "
      ]
     },
     "execution_count": 30,
     "metadata": {},
     "output_type": "execute_result"
    }
   ],
   "source": [
    "anon_dups.sort_values('count', ascending=False).head(5)\n"
   ]
  },
  {
   "cell_type": "code",
   "execution_count": 31,
   "id": "9e432ed6",
   "metadata": {},
   "outputs": [
    {
     "name": "stdout",
     "output_type": "stream",
     "text": [
      "24986\n"
     ]
    }
   ],
   "source": [
    "# drop duplicates from Anon set\n",
    "anon.set_index(['Comment Title','Comment'], inplace=True)\n",
    "print(anon.loc[anon.index.isin(anon_dups.index)].shape[0]) # number of duplicates entered by bots ~18000\n",
    "anon = anon.loc[~anon.index.isin(anon_dups.index)]\n",
    "anon.reset_index(inplace=True)"
   ]
  },
  {
   "cell_type": "code",
   "execution_count": null,
   "id": "0ff93fe1",
   "metadata": {},
   "outputs": [],
   "source": []
  },
  {
   "cell_type": "code",
   "execution_count": 32,
   "id": "2fca26e7",
   "metadata": {},
   "outputs": [
    {
     "data": {
      "image/png": "[encoded data removed]",
      "text/plain": [
       "<Figure size 720x360 with 1 Axes>"
      ]
     },
     "metadata": {
      "needs_background": "light"
     },
     "output_type": "display_data"
    }
   ],
   "source": [
    "anon_ts = anon.set_index('Date').groupby([pd.Grouper(freq='1h'), 'merged']).count().loc[:,['Comment']].reset_index()\n",
    "\n",
    "fig, ax = plt.subplots(figsize=(10,5))\n",
    "sns.lineplot(x = 'Date', y = 'Comment', data = anon_ts, hue = 'merged', ax=ax)\n",
    "fig.suptitle('Anonymous comments on Youngkin school trans policy', fontsize=14)\n",
    "ax.set_title('(bots removed)')\n",
    "plt.savefig(\"images/anon_ts_nobots.png\", facecolor='white')\n",
    "plt.show()"
   ]
  },
  {
   "cell_type": "code",
   "execution_count": 38,
   "id": "488002e6",
   "metadata": {},
   "outputs": [
    {
     "data": {
      "text/html": [
       "<div>\n",
       "<style scoped>\n",
       "    .dataframe tbody tr th:only-of-type {\n",
       "        vertical-align: middle;\n",
       "    }\n",
       "\n",
       "    .dataframe tbody tr th {\n",
       "        vertical-align: top;\n",
       "    }\n",
       "\n",
       "    .dataframe thead th {\n",
       "        text-align: right;\n",
       "    }\n",
       "</style>\n",
       "<table border=\"1\" class=\"dataframe\">\n",
       "  <thead>\n",
       "    <tr style=\"text-align: right;\">\n",
       "      <th></th>\n",
       "      <th>Comment Title</th>\n",
       "      <th>Comment</th>\n",
       "      <th>CommentID</th>\n",
       "      <th>Commenter</th>\n",
       "      <th>Date</th>\n",
       "      <th>label</th>\n",
       "      <th>pred</th>\n",
       "      <th>merged</th>\n",
       "    </tr>\n",
       "  </thead>\n",
       "  <tbody>\n",
       "    <tr>\n",
       "      <th>7233</th>\n",
       "      <td>Support Trans and Non-Binary Kids</td>\n",
       "      <td>Life is difficult enough to navigate.  Imagine...</td>\n",
       "      <td>201595.0</td>\n",
       "      <td>Anonymous</td>\n",
       "      <td>2022-10-26 20:02:00</td>\n",
       "      <td>Support</td>\n",
       "      <td></td>\n",
       "      <td>Support</td>\n",
       "    </tr>\n",
       "    <tr>\n",
       "      <th>7235</th>\n",
       "      <td>Support!</td>\n",
       "      <td>The new policies honor the sacred role of pare...</td>\n",
       "      <td>201607.0</td>\n",
       "      <td>Anonymous</td>\n",
       "      <td>2022-10-26 20:04:00</td>\n",
       "      <td>Support</td>\n",
       "      <td></td>\n",
       "      <td>Support</td>\n",
       "    </tr>\n",
       "    <tr>\n",
       "      <th>7236</th>\n",
       "      <td>Support trans kids</td>\n",
       "      <td>Support policies like these and suicide/self-h...</td>\n",
       "      <td>201609.0</td>\n",
       "      <td>Anonymous</td>\n",
       "      <td>2022-10-26 20:05:00</td>\n",
       "      <td>Support</td>\n",
       "      <td></td>\n",
       "      <td>Support</td>\n",
       "    </tr>\n",
       "    <tr>\n",
       "      <th>7237</th>\n",
       "      <td>I support new pro-parent policies proposed by ...</td>\n",
       "      <td>The new policies honor the sacred role of pare...</td>\n",
       "      <td>201614.0</td>\n",
       "      <td>Anonymous</td>\n",
       "      <td>2022-10-26 20:05:00</td>\n",
       "      <td>Support</td>\n",
       "      <td></td>\n",
       "      <td>Support</td>\n",
       "    </tr>\n",
       "    <tr>\n",
       "      <th>7242</th>\n",
       "      <td>Strongly support Gov. Younkins policy</td>\n",
       "      <td>Students are minors and parents have rights. S...</td>\n",
       "      <td>201645.0</td>\n",
       "      <td>Anonymous</td>\n",
       "      <td>2022-10-26 20:12:00</td>\n",
       "      <td>Support</td>\n",
       "      <td></td>\n",
       "      <td>Support</td>\n",
       "    </tr>\n",
       "    <tr>\n",
       "      <th>7244</th>\n",
       "      <td>Support The model Policies 2022</td>\n",
       "      <td>Support The model Policies 2022</td>\n",
       "      <td>201649.0</td>\n",
       "      <td>Anonymous</td>\n",
       "      <td>2022-10-26 20:13:00</td>\n",
       "      <td>Support</td>\n",
       "      <td></td>\n",
       "      <td>Support</td>\n",
       "    </tr>\n",
       "    <tr>\n",
       "      <th>7245</th>\n",
       "      <td>Strongly support</td>\n",
       "      <td>Thank you for standing for the constitution an...</td>\n",
       "      <td>201653.0</td>\n",
       "      <td>Anonymous</td>\n",
       "      <td>2022-10-26 20:14:00</td>\n",
       "      <td>Support</td>\n",
       "      <td></td>\n",
       "      <td>Support</td>\n",
       "    </tr>\n",
       "    <tr>\n",
       "      <th>7246</th>\n",
       "      <td>Strongly support</td>\n",
       "      <td>The new policies honor the sacred role of pare...</td>\n",
       "      <td>201656.0</td>\n",
       "      <td>Anonymous</td>\n",
       "      <td>2022-10-26 20:14:00</td>\n",
       "      <td>Support</td>\n",
       "      <td></td>\n",
       "      <td>Support</td>\n",
       "    </tr>\n",
       "    <tr>\n",
       "      <th>7249</th>\n",
       "      <td>Support</td>\n",
       "      <td>I support parent’s rights until the child turn...</td>\n",
       "      <td>201675.0</td>\n",
       "      <td>Anonymous</td>\n",
       "      <td>2022-10-26 20:18:00</td>\n",
       "      <td>Support</td>\n",
       "      <td></td>\n",
       "      <td>Support</td>\n",
       "    </tr>\n",
       "    <tr>\n",
       "      <th>7251</th>\n",
       "      <td>SUPPORT 2022 Trans Gender Policy</td>\n",
       "      <td>I believe the parents have the right to be inf...</td>\n",
       "      <td>201682.0</td>\n",
       "      <td>Anonymous</td>\n",
       "      <td>2022-10-26 20:19:00</td>\n",
       "      <td>Support</td>\n",
       "      <td></td>\n",
       "      <td>Support</td>\n",
       "    </tr>\n",
       "    <tr>\n",
       "      <th>7252</th>\n",
       "      <td>Strongly Support Gov Youngkin's Policy on tran...</td>\n",
       "      <td>Need to recognize the distinct differences bet...</td>\n",
       "      <td>201684.0</td>\n",
       "      <td>Anonymous</td>\n",
       "      <td>2022-10-26 20:19:00</td>\n",
       "      <td>Support</td>\n",
       "      <td></td>\n",
       "      <td>Support</td>\n",
       "    </tr>\n",
       "    <tr>\n",
       "      <th>7255</th>\n",
       "      <td>Absolutely Support!!!</td>\n",
       "      <td>Of course the school should not force actions,...</td>\n",
       "      <td>201695.0</td>\n",
       "      <td>Anonymous</td>\n",
       "      <td>2022-10-26 20:21:00</td>\n",
       "      <td>Support</td>\n",
       "      <td></td>\n",
       "      <td>Support</td>\n",
       "    </tr>\n",
       "    <tr>\n",
       "      <th>7263</th>\n",
       "      <td>Support the framework of this policy</td>\n",
       "      <td>The policy is, at the core, fundamentally soun...</td>\n",
       "      <td>201735.0</td>\n",
       "      <td>Anonymous</td>\n",
       "      <td>2022-10-26 20:27:00</td>\n",
       "      <td>Support</td>\n",
       "      <td></td>\n",
       "      <td>Support</td>\n",
       "    </tr>\n",
       "    <tr>\n",
       "      <th>7266</th>\n",
       "      <td>Strongly support the guidance document</td>\n",
       "      <td>I support the guidance document, especially on...</td>\n",
       "      <td>201745.0</td>\n",
       "      <td>Anonymous</td>\n",
       "      <td>2022-10-26 20:28:00</td>\n",
       "      <td>Support</td>\n",
       "      <td></td>\n",
       "      <td>Support</td>\n",
       "    </tr>\n",
       "    <tr>\n",
       "      <th>7267</th>\n",
       "      <td>I Support 2022 Policy because people have forg...</td>\n",
       "      <td>I Support 2022 Policy because people have forg...</td>\n",
       "      <td>201748.0</td>\n",
       "      <td>Anonymous</td>\n",
       "      <td>2022-10-26 20:28:00</td>\n",
       "      <td>Support</td>\n",
       "      <td></td>\n",
       "      <td>Support</td>\n",
       "    </tr>\n",
       "    <tr>\n",
       "      <th>7268</th>\n",
       "      <td>Supported!</td>\n",
       "      <td>Strongly Support This!</td>\n",
       "      <td>201750.0</td>\n",
       "      <td>Anonymous</td>\n",
       "      <td>2022-10-26 20:28:00</td>\n",
       "      <td>Support</td>\n",
       "      <td></td>\n",
       "      <td>Support</td>\n",
       "    </tr>\n",
       "    <tr>\n",
       "      <th>7269</th>\n",
       "      <td>Strongly support Gov. Youngkin!</td>\n",
       "      <td>Parents are responsible for their children up ...</td>\n",
       "      <td>201753.0</td>\n",
       "      <td>Anonymous</td>\n",
       "      <td>2022-10-26 20:29:00</td>\n",
       "      <td>Support</td>\n",
       "      <td></td>\n",
       "      <td>Support</td>\n",
       "    </tr>\n",
       "    <tr>\n",
       "      <th>7271</th>\n",
       "      <td>Support Policy! Transgender athletes’ victorie...</td>\n",
       "      <td>I Support 2022 Policy because people have forg...</td>\n",
       "      <td>201757.0</td>\n",
       "      <td>Anonymous</td>\n",
       "      <td>2022-10-26 20:29:00</td>\n",
       "      <td>Support</td>\n",
       "      <td></td>\n",
       "      <td>Support</td>\n",
       "    </tr>\n",
       "    <tr>\n",
       "      <th>7272</th>\n",
       "      <td>Strongly support policy;</td>\n",
       "      <td>I strongly support this policy update; it corr...</td>\n",
       "      <td>201759.0</td>\n",
       "      <td>Anonymous</td>\n",
       "      <td>2022-10-26 20:30:00</td>\n",
       "      <td>Support</td>\n",
       "      <td></td>\n",
       "      <td>Support</td>\n",
       "    </tr>\n",
       "    <tr>\n",
       "      <th>7273</th>\n",
       "      <td>Support parental rights</td>\n",
       "      <td>Support</td>\n",
       "      <td>201760.0</td>\n",
       "      <td>Anonymous</td>\n",
       "      <td>2022-10-26 20:30:00</td>\n",
       "      <td>Support</td>\n",
       "      <td></td>\n",
       "      <td>Support</td>\n",
       "    </tr>\n",
       "  </tbody>\n",
       "</table>\n",
       "</div>"
      ],
      "text/plain": [
       "                                          Comment Title  \\\n",
       "7233                  Support Trans and Non-Binary Kids   \n",
       "7235                                           Support!   \n",
       "7236                                 Support trans kids   \n",
       "7237  I support new pro-parent policies proposed by ...   \n",
       "7242              Strongly support Gov. Younkins policy   \n",
       "7244                    Support The model Policies 2022   \n",
       "7245                                   Strongly support   \n",
       "7246                                   Strongly support   \n",
       "7249                                            Support   \n",
       "7251                   SUPPORT 2022 Trans Gender Policy   \n",
       "7252  Strongly Support Gov Youngkin's Policy on tran...   \n",
       "7255                              Absolutely Support!!!   \n",
       "7263               Support the framework of this policy   \n",
       "7266             Strongly support the guidance document   \n",
       "7267  I Support 2022 Policy because people have forg...   \n",
       "7268                                         Supported!   \n",
       "7269                    Strongly support Gov. Youngkin!   \n",
       "7271  Support Policy! Transgender athletes’ victorie...   \n",
       "7272                           Strongly support policy;   \n",
       "7273                            Support parental rights   \n",
       "\n",
       "                                                Comment  CommentID  Commenter  \\\n",
       "7233  Life is difficult enough to navigate.  Imagine...   201595.0  Anonymous   \n",
       "7235  The new policies honor the sacred role of pare...   201607.0  Anonymous   \n",
       "7236  Support policies like these and suicide/self-h...   201609.0  Anonymous   \n",
       "7237  The new policies honor the sacred role of pare...   201614.0  Anonymous   \n",
       "7242  Students are minors and parents have rights. S...   201645.0  Anonymous   \n",
       "7244                    Support The model Policies 2022   201649.0  Anonymous   \n",
       "7245  Thank you for standing for the constitution an...   201653.0  Anonymous   \n",
       "7246  The new policies honor the sacred role of pare...   201656.0  Anonymous   \n",
       "7249  I support parent’s rights until the child turn...   201675.0  Anonymous   \n",
       "7251  I believe the parents have the right to be inf...   201682.0  Anonymous   \n",
       "7252  Need to recognize the distinct differences bet...   201684.0  Anonymous   \n",
       "7255  Of course the school should not force actions,...   201695.0  Anonymous   \n",
       "7263  The policy is, at the core, fundamentally soun...   201735.0  Anonymous   \n",
       "7266  I support the guidance document, especially on...   201745.0  Anonymous   \n",
       "7267  I Support 2022 Policy because people have forg...   201748.0  Anonymous   \n",
       "7268                             Strongly Support This!   201750.0  Anonymous   \n",
       "7269  Parents are responsible for their children up ...   201753.0  Anonymous   \n",
       "7271  I Support 2022 Policy because people have forg...   201757.0  Anonymous   \n",
       "7272  I strongly support this policy update; it corr...   201759.0  Anonymous   \n",
       "7273                                            Support   201760.0  Anonymous   \n",
       "\n",
       "                    Date    label pred   merged  \n",
       "7233 2022-10-26 20:02:00  Support       Support  \n",
       "7235 2022-10-26 20:04:00  Support       Support  \n",
       "7236 2022-10-26 20:05:00  Support       Support  \n",
       "7237 2022-10-26 20:05:00  Support       Support  \n",
       "7242 2022-10-26 20:12:00  Support       Support  \n",
       "7244 2022-10-26 20:13:00  Support       Support  \n",
       "7245 2022-10-26 20:14:00  Support       Support  \n",
       "7246 2022-10-26 20:14:00  Support       Support  \n",
       "7249 2022-10-26 20:18:00  Support       Support  \n",
       "7251 2022-10-26 20:19:00  Support       Support  \n",
       "7252 2022-10-26 20:19:00  Support       Support  \n",
       "7255 2022-10-26 20:21:00  Support       Support  \n",
       "7263 2022-10-26 20:27:00  Support       Support  \n",
       "7266 2022-10-26 20:28:00  Support       Support  \n",
       "7267 2022-10-26 20:28:00  Support       Support  \n",
       "7268 2022-10-26 20:28:00  Support       Support  \n",
       "7269 2022-10-26 20:29:00  Support       Support  \n",
       "7271 2022-10-26 20:29:00  Support       Support  \n",
       "7272 2022-10-26 20:30:00  Support       Support  \n",
       "7273 2022-10-26 20:30:00  Support       Support  "
      ]
     },
     "execution_count": 38,
     "metadata": {},
     "output_type": "execute_result"
    }
   ],
   "source": [
    "anon.loc[(anon['merged']=='Support') & (anon['Date'] > datetime(2022, 10, 26, 20, 0)) ].head(20)"
   ]
  },
  {
   "cell_type": "code",
   "execution_count": 74,
   "id": "ea562bc0",
   "metadata": {},
   "outputs": [
    {
     "data": {
      "text/html": [
       "<div>\n",
       "<style scoped>\n",
       "    .dataframe tbody tr th:only-of-type {\n",
       "        vertical-align: middle;\n",
       "    }\n",
       "\n",
       "    .dataframe tbody tr th {\n",
       "        vertical-align: top;\n",
       "    }\n",
       "\n",
       "    .dataframe thead th {\n",
       "        text-align: right;\n",
       "    }\n",
       "</style>\n",
       "<table border=\"1\" class=\"dataframe\">\n",
       "  <thead>\n",
       "    <tr style=\"text-align: right;\">\n",
       "      <th></th>\n",
       "      <th>Comment Title</th>\n",
       "      <th>Comment</th>\n",
       "      <th>CommentID</th>\n",
       "      <th>Commenter</th>\n",
       "      <th>Date</th>\n",
       "      <th>label</th>\n",
       "      <th>pred</th>\n",
       "      <th>merged</th>\n",
       "    </tr>\n",
       "  </thead>\n",
       "  <tbody>\n",
       "    <tr>\n",
       "      <th>0</th>\n",
       "      <td>Support!</td>\n",
       "      <td>As a public school teacher, THANK YOU! I don't...</td>\n",
       "      <td>128971.0</td>\n",
       "      <td>Anonymous</td>\n",
       "      <td>2022-09-26 07:31:00</td>\n",
       "      <td>Support</td>\n",
       "      <td></td>\n",
       "      <td>Support</td>\n",
       "    </tr>\n",
       "    <tr>\n",
       "      <th>1</th>\n",
       "      <td>Strongly support all people being who they are</td>\n",
       "      <td>Everyone is different. Everyone deserves to be...</td>\n",
       "      <td>128976.0</td>\n",
       "      <td>Anonymous</td>\n",
       "      <td>2022-09-26 07:38:00</td>\n",
       "      <td>Support</td>\n",
       "      <td></td>\n",
       "      <td>Support</td>\n",
       "    </tr>\n",
       "    <tr>\n",
       "      <th>2</th>\n",
       "      <td>This is about saving student lives - oppose th...</td>\n",
       "      <td>I strongly oppose these changes. Having worked...</td>\n",
       "      <td>128984.0</td>\n",
       "      <td>Anonymous</td>\n",
       "      <td>2022-09-26 07:54:00</td>\n",
       "      <td>Oppose</td>\n",
       "      <td></td>\n",
       "      <td>Oppose</td>\n",
       "    </tr>\n",
       "    <tr>\n",
       "      <th>3</th>\n",
       "      <td>Strongly Oppose The Changes</td>\n",
       "      <td>Correct pronoun and name use is incredibly cri...</td>\n",
       "      <td>128992.0</td>\n",
       "      <td>Anonymous</td>\n",
       "      <td>2022-09-26 08:12:00</td>\n",
       "      <td>Oppose</td>\n",
       "      <td></td>\n",
       "      <td>Oppose</td>\n",
       "    </tr>\n",
       "    <tr>\n",
       "      <th>4</th>\n",
       "      <td>Strongly Oppose</td>\n",
       "      <td>Leave the evangelists to do their Work outside...</td>\n",
       "      <td>128998.0</td>\n",
       "      <td>Anonymous</td>\n",
       "      <td>2022-09-26 08:18:00</td>\n",
       "      <td>Oppose</td>\n",
       "      <td></td>\n",
       "      <td>Oppose</td>\n",
       "    </tr>\n",
       "    <tr>\n",
       "      <th>...</th>\n",
       "      <td>...</td>\n",
       "      <td>...</td>\n",
       "      <td>...</td>\n",
       "      <td>...</td>\n",
       "      <td>...</td>\n",
       "      <td>...</td>\n",
       "      <td>...</td>\n",
       "      <td>...</td>\n",
       "    </tr>\n",
       "    <tr>\n",
       "      <th>7112</th>\n",
       "      <td>Trans people</td>\n",
       "      <td>I feel that trans people should be able to dec...</td>\n",
       "      <td>181340.0</td>\n",
       "      <td>Anonymous</td>\n",
       "      <td>2022-09-29 19:49:00</td>\n",
       "      <td>Unknown</td>\n",
       "      <td>Oppose</td>\n",
       "      <td>Oppose</td>\n",
       "    </tr>\n",
       "    <tr>\n",
       "      <th>7113</th>\n",
       "      <td>Best practice</td>\n",
       "      <td>As a professional educator, this is a very sim...</td>\n",
       "      <td>181348.0</td>\n",
       "      <td>Anonymous</td>\n",
       "      <td>2022-09-29 19:52:00</td>\n",
       "      <td>Unknown</td>\n",
       "      <td>Support</td>\n",
       "      <td>Support</td>\n",
       "    </tr>\n",
       "    <tr>\n",
       "      <th>7114</th>\n",
       "      <td>100% agree with Governor Youngkin‘s policies o...</td>\n",
       "      <td>Honest doctors know that gender dysphoria is s...</td>\n",
       "      <td>181382.0</td>\n",
       "      <td>Anonymous</td>\n",
       "      <td>2022-09-29 20:13:00</td>\n",
       "      <td>Unknown</td>\n",
       "      <td>Support</td>\n",
       "      <td>Support</td>\n",
       "    </tr>\n",
       "    <tr>\n",
       "      <th>7115</th>\n",
       "      <td>Duh, repeat post much?</td>\n",
       "      <td>Free for all</td>\n",
       "      <td>181396.0</td>\n",
       "      <td>Anonymous</td>\n",
       "      <td>2022-09-29 20:20:00</td>\n",
       "      <td>Unknown</td>\n",
       "      <td>Oppose</td>\n",
       "      <td>Oppose</td>\n",
       "    </tr>\n",
       "    <tr>\n",
       "      <th>7116</th>\n",
       "      <td>Transgender and non-binary youth need to be pr...</td>\n",
       "      <td>Transgender and non-binary youth need to be pr...</td>\n",
       "      <td>181403.0</td>\n",
       "      <td>Anonymous</td>\n",
       "      <td>2022-09-29 20:27:00</td>\n",
       "      <td>Unknown</td>\n",
       "      <td>Oppose</td>\n",
       "      <td>Oppose</td>\n",
       "    </tr>\n",
       "  </tbody>\n",
       "</table>\n",
       "<p>7117 rows × 8 columns</p>\n",
       "</div>"
      ],
      "text/plain": [
       "                                          Comment Title  \\\n",
       "0                                              Support!   \n",
       "1        Strongly support all people being who they are   \n",
       "2     This is about saving student lives - oppose th...   \n",
       "3                           Strongly Oppose The Changes   \n",
       "4                                       Strongly Oppose   \n",
       "...                                                 ...   \n",
       "7112                                       Trans people   \n",
       "7113                                      Best practice   \n",
       "7114  100% agree with Governor Youngkin‘s policies o...   \n",
       "7115                             Duh, repeat post much?   \n",
       "7116  Transgender and non-binary youth need to be pr...   \n",
       "\n",
       "                                                Comment  CommentID  Commenter  \\\n",
       "0     As a public school teacher, THANK YOU! I don't...   128971.0  Anonymous   \n",
       "1     Everyone is different. Everyone deserves to be...   128976.0  Anonymous   \n",
       "2     I strongly oppose these changes. Having worked...   128984.0  Anonymous   \n",
       "3     Correct pronoun and name use is incredibly cri...   128992.0  Anonymous   \n",
       "4     Leave the evangelists to do their Work outside...   128998.0  Anonymous   \n",
       "...                                                 ...        ...        ...   \n",
       "7112  I feel that trans people should be able to dec...   181340.0  Anonymous   \n",
       "7113  As a professional educator, this is a very sim...   181348.0  Anonymous   \n",
       "7114  Honest doctors know that gender dysphoria is s...   181382.0  Anonymous   \n",
       "7115                                       Free for all   181396.0  Anonymous   \n",
       "7116  Transgender and non-binary youth need to be pr...   181403.0  Anonymous   \n",
       "\n",
       "                    Date    label     pred   merged  \n",
       "0    2022-09-26 07:31:00  Support           Support  \n",
       "1    2022-09-26 07:38:00  Support           Support  \n",
       "2    2022-09-26 07:54:00   Oppose            Oppose  \n",
       "3    2022-09-26 08:12:00   Oppose            Oppose  \n",
       "4    2022-09-26 08:18:00   Oppose            Oppose  \n",
       "...                  ...      ...      ...      ...  \n",
       "7112 2022-09-29 19:49:00  Unknown   Oppose   Oppose  \n",
       "7113 2022-09-29 19:52:00  Unknown  Support  Support  \n",
       "7114 2022-09-29 20:13:00  Unknown  Support  Support  \n",
       "7115 2022-09-29 20:20:00  Unknown   Oppose   Oppose  \n",
       "7116 2022-09-29 20:27:00  Unknown   Oppose   Oppose  \n",
       "\n",
       "[7117 rows x 8 columns]"
      ]
     },
     "execution_count": 74,
     "metadata": {},
     "output_type": "execute_result"
    }
   ],
   "source": [
    "anon"
   ]
  },
  {
   "cell_type": "code",
   "execution_count": 35,
   "id": "9a35b9cf",
   "metadata": {},
   "outputs": [
    {
     "name": "stdout",
     "output_type": "stream",
     "text": [
      "Duplicates removed: 33304\n",
      "Remaining records: 37994\n"
     ]
    }
   ],
   "source": [
    "# drop duplicates from Output set\n",
    "dups = output_df.groupby(['Comment Title','Comment']).count().loc[:,['CommentID']]\n",
    "dups = dups.loc[dups['CommentID']>5] # 396 comments\n",
    "output_df.set_index(['Comment Title','Comment'], inplace=True)\n",
    "print(f\"Duplicates removed: {output_df.loc[output_df.index.isin(dups.index)].shape[0]}\") \n",
    "output_df = output_df.loc[~output_df.index.isin(dups.index)]\n",
    "output_df.reset_index(inplace=True)\n",
    "print(f\"Remaining records: {output_df.shape[0]}\")"
   ]
  },
  {
   "cell_type": "code",
   "execution_count": 36,
   "id": "2bf389f5",
   "metadata": {},
   "outputs": [
    {
     "data": {
      "image/png": "[encoded data removed]",
      "text/plain": [
       "<Figure size 720x360 with 1 Axes>"
      ]
     },
     "metadata": {
      "needs_background": "light"
     },
     "output_type": "display_data"
    }
   ],
   "source": [
    "output_df['merged'] = output_df['pred'].replace('',np.NaN).fillna(output_df['label'])\n",
    "out_ts = output_df.set_index('Date').groupby([pd.Grouper(freq='1h'), 'merged']).count().loc[:,['Comment']].reset_index()\n",
    "\n",
    "fig, ax = plt.subplots(figsize=(10,5))\n",
    "sns.lineplot(x = 'Date', y = 'Comment', data = out_ts, hue = 'merged', ax=ax)\n",
    "fig.suptitle('All comments on Youngkin school trans policy', fontsize=14)\n",
    "ax.set_title('(duplicates removed)')\n",
    "plt.savefig(\"images/all_ts.png\", facecolor='white')\n",
    "plt.show()"
   ]
  },
  {
   "cell_type": "code",
   "execution_count": 51,
   "id": "1c0b7516",
   "metadata": {},
   "outputs": [
    {
     "data": {
      "image/png": "[encoded data removed]",
      "text/plain": [
       "<Figure size 720x360 with 1 Axes>"
      ]
     },
     "metadata": {
      "needs_background": "light"
     },
     "output_type": "display_data"
    }
   ],
   "source": [
    "# peak at 2022-10-26 17:00\n",
    "#output_df.loc[output_df['Date'].between(datetime(2022, 10, 26, 17, 0), datetime(2022, 10, 26, 18, 0)) & (output_df['merged']=='Support')]\n",
    "p2a = output_df.loc[output_df['Comment Title']=='Protect Emotionally Vulnerable Children and Parental Rights!']\n",
    "p2s_ts = p2a.set_index('Date').groupby([pd.Grouper(freq='1h'), 'merged']).count().loc[:,['Comment']].reset_index()\n",
    "\n",
    "\n",
    "fig, ax = plt.subplots(figsize=(10,5))\n",
    "sns.lineplot(x = 'Date', y = 'Comment', data = p2s_ts, hue = 'merged', ax=ax)\n",
    "fig.suptitle('Phone2Action comments on Youngkin school trans policy', fontsize=14)\n",
    "#ax.set_title('(duplicates removed)')\n",
    "plt.show()"
   ]
  },
  {
   "cell_type": "code",
   "execution_count": 50,
   "id": "c364ad60",
   "metadata": {},
   "outputs": [
    {
     "data": {
      "text/plain": [
       "'Dear Virginia Dept of Education,<br /><br />Schools should never secretly socially transition students and keep the child\\'s new name, pronouns and gender identities from parents. I am pleased and relieved that the Virginia Department of Education\\'s revised model policies support parental rights and ensure that school employees don\\'t cut parents out of critical decisions for their children.<br /><br />The Virginia Department of Education (VDOE) issued \"model policies\" in 2021 that encouraged every school district in Virginia to hide a child\\'s new gender identity from parents who choose to affirm the child\\'s biological sex. Under Governor Youngkin\\'s leadership, the VDOE\\'s revised policies make it clear that all children should be valued and parents\\' rights and beliefs should be respected. The 2022 Model Policies on the Privacy, Dignity, and Respect for all Students and Parents in Virginia\\'s Public Schools keep parents involved in major decisions in their children\\'s lives.<br /><br />The 2021 VDOE \"model policies\" encouraged schools to create \"a plan (that) may include addressing the student at school with their name and pronoun consistent with their gender identity while using the legal name and pronoun associated with the sex assigned at birth when communicating with parents or guardians.\"<br /><br />I strongly support the revised policies that end this practice. Virginia schools should not drive a wedge between parents and their emotionally vulnerable children. Virginia school districts, including those who have already communicated their plans to ignore the 2022 revised model policies, should put an end to secret Gender Support Plans now.<br /><br />Sincerely,<br />Richard Van Buskirk<br />East Tawas, MI 48730<br /><img src=\"http://admin.phone2action.com/email/open/leg/657523/148816479\" width=\"1\" height=\"1\" />'"
      ]
     },
     "execution_count": 50,
     "metadata": {},
     "output_type": "execute_result"
    }
   ],
   "source": [
    "output_df.iloc[37166]['Comment']"
   ]
  },
  {
   "cell_type": "code",
   "execution_count": 53,
   "id": "0f7baf72",
   "metadata": {},
   "outputs": [],
   "source": [
    "counts = output_df.groupby('merged')['CommentID'].count()\n",
    "data = counts.values\n",
    "labels = list(counts.index)\n",
    "\n",
    "\n",
    "output_orig = train.loc[:,['CommentID','Commenter','Comment Title','Comment','Date','label','pred']]\n",
    "output_orig = output_orig.append(unk.loc[:,['CommentID','Commenter','Comment Title','Comment','Date','label','pred']])\n",
    "output_orig['merged'] = output_orig['pred'].replace('',np.NaN).fillna(output_orig['label'])\n",
    "counts2 = output_orig.groupby('merged')['CommentID'].count()\n",
    "data2 = counts2.values\n",
    "labels2 = list(counts2.index)"
   ]
  },
  {
   "cell_type": "code",
   "execution_count": 54,
   "id": "e778b276",
   "metadata": {},
   "outputs": [
    {
     "data": {
      "image/png": "[encoded data removed]",
      "text/plain": [
       "<Figure size 720x360 with 2 Axes>"
      ]
     },
     "metadata": {},
     "output_type": "display_data"
    }
   ],
   "source": [
    "def make_autopct(values):\n",
    "    def my_autopct(pct):\n",
    "        total = sum(values)\n",
    "        val = int(round(pct*total/100.0))\n",
    "        return '{p:.0f}%  ({v:d})'.format(p=pct,v=val)\n",
    "    return my_autopct\n",
    "\n",
    "\n",
    "#define Seaborn color palette to use\n",
    "colors = sns.color_palette('pastel')[0:5]\n",
    "\n",
    "#create pie chart\n",
    "fig, (ax1,ax2) = plt.subplots(1,2, figsize=(10,5))\n",
    "fig.suptitle('Predicted comments on Youngkin school trans policy', fontsize=14)\n",
    "\n",
    "ax1.pie(data, labels = labels, colors = colors, autopct=make_autopct(data))\n",
    "ax1.set_title('Bots removed')\n",
    "\n",
    "ax2.pie(data2, labels = labels2, colors = colors, autopct=make_autopct(data2))\n",
    "ax2.set_title('With bots')\n",
    "\n",
    "plt.savefig(\"images/outcome_pie.png\", facecolor='white')\n",
    "plt.show()"
   ]
  },
  {
   "cell_type": "code",
   "execution_count": 55,
   "id": "731b0bec",
   "metadata": {},
   "outputs": [
    {
     "data": {
      "text/plain": [
       "(71298, 8)"
      ]
     },
     "execution_count": 55,
     "metadata": {},
     "output_type": "execute_result"
    }
   ],
   "source": [
    "output_orig.shape"
   ]
  },
  {
   "cell_type": "code",
   "execution_count": 56,
   "id": "844430b4",
   "metadata": {},
   "outputs": [
    {
     "data": {
      "image/png": "[encoded data removed]",
      "text/plain": [
       "<Figure size 720x360 with 1 Axes>"
      ]
     },
     "metadata": {
      "needs_background": "light"
     },
     "output_type": "display_data"
    }
   ],
   "source": [
    "outbots_ts = output_orig.set_index('Date').groupby([pd.Grouper(freq='1h'), 'merged']).count().loc[:,['Comment']].reset_index()\n",
    "\n",
    "fig, ax = plt.subplots(figsize=(10,5))\n",
    "sns.lineplot(x = 'Date', y = 'Comment', data = outbots_ts, hue = 'merged', ax=ax)\n",
    "fig.suptitle('All comments on Youngkin school trans policy', fontsize=14)\n",
    "ax.set_title('(duplicates included)')\n",
    "plt.savefig(\"images/all_ts_withbots.png\", facecolor='white')\n",
    "plt.show()"
   ]
  },
  {
   "cell_type": "code",
   "execution_count": 102,
   "id": "e00a237f",
   "metadata": {},
   "outputs": [
    {
     "data": {
      "text/plain": [
       "0.6247295563767256"
      ]
     },
     "execution_count": 102,
     "metadata": {},
     "output_type": "execute_result"
    }
   ],
   "source": [
    "32629 / (32629+19600)"
   ]
  },
  {
   "cell_type": "code",
   "execution_count": null,
   "id": "bc50ed48",
   "metadata": {},
   "outputs": [],
   "source": []
  }
 ],
 "metadata": {
  "kernelspec": {
   "display_name": "Python 3",
   "language": "python",
   "name": "python3"
  },
  "language_info": {
   "codemirror_mode": {
    "name": "ipython",
    "version": 3
   },
   "file_extension": ".py",
   "mimetype": "text/x-python",
   "name": "python",
   "nbconvert_exporter": "python",
   "pygments_lexer": "ipython3",
   "version": "3.8.3"
  }
 },
 "nbformat": 4,
 "nbformat_minor": 5
}
