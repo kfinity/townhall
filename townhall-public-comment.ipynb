{
 "cells": [
  {
   "cell_type": "code",
   "execution_count": 45,
   "metadata": {},
   "outputs": [],
   "source": [
    "import requests\n",
    "from bs4 import BeautifulSoup\n",
    "import pandas as pd\n",
    "import re\n",
    "from datetime import datetime\n",
    "import os\n",
    "import time\n",
    "import unicodedata"
   ]
  },
  {
   "cell_type": "code",
   "execution_count": 5,
   "metadata": {},
   "outputs": [],
   "source": [
    "main_url=\"https://townhall.virginia.gov/L/Comments.cfm?GdocForumID=1953\"\n",
    "\n",
    "orig_url=\"https://townhall.virginia.gov/L/GDocForum.cfm?GDocForumID=452\""
   ]
  },
  {
   "cell_type": "code",
   "execution_count": 6,
   "metadata": {},
   "outputs": [],
   "source": [
    "html_content = requests.get(main_url).text\n",
    "soup = BeautifulSoup(html_content, \"lxml\")\n",
    "main_tab = soup.find('table')"
   ]
  },
  {
   "cell_type": "code",
   "execution_count": 73,
   "metadata": {},
   "outputs": [],
   "source": [
    "# save off raw html\n",
    "with open(\"raw_html.txt\", \"w\") as text_file:\n",
    "    text_file.write(html_content)"
   ]
  },
  {
   "cell_type": "code",
   "execution_count": null,
   "metadata": {},
   "outputs": [],
   "source": [
    "with open('raw_html.txt', 'r') as file:\n",
    "    html_content = file.read()"
   ]
  },
  {
   "cell_type": "code",
   "execution_count": 28,
   "metadata": {},
   "outputs": [],
   "source": [
    "df = pd.read_html(str(main_tab))[0]"
   ]
  },
  {
   "cell_type": "code",
   "execution_count": 57,
   "metadata": {},
   "outputs": [],
   "source": [
    "urls = [re.search('.+=([0-9]+)', r.a['href']).group(1) for r in main_tab.find_all('tr')]\n",
    "df['commentId'] = urls[1:]"
   ]
  },
  {
   "cell_type": "code",
   "execution_count": 66,
   "metadata": {},
   "outputs": [
    {
     "data": {
      "text/html": [
       "<div>\n",
       "<style scoped>\n",
       "    .dataframe tbody tr th:only-of-type {\n",
       "        vertical-align: middle;\n",
       "    }\n",
       "\n",
       "    .dataframe tbody tr th {\n",
       "        vertical-align: top;\n",
       "    }\n",
       "\n",
       "    .dataframe thead th {\n",
       "        text-align: right;\n",
       "    }\n",
       "</style>\n",
       "<table border=\"1\" class=\"dataframe\">\n",
       "  <thead>\n",
       "    <tr style=\"text-align: right;\">\n",
       "      <th></th>\n",
       "      <th>Comment Title</th>\n",
       "      <th>Commenter</th>\n",
       "      <th>Date</th>\n",
       "      <th>commentId</th>\n",
       "      <th>full_comment</th>\n",
       "    </tr>\n",
       "  </thead>\n",
       "  <tbody>\n",
       "    <tr>\n",
       "      <th>0</th>\n",
       "      <td>I am strongly opposed.</td>\n",
       "      <td>Latosha Misciagna</td>\n",
       "      <td>9/26/22 4:27 pm</td>\n",
       "      <td>136285</td>\n",
       "      <td></td>\n",
       "    </tr>\n",
       "    <tr>\n",
       "      <th>1</th>\n",
       "      <td>Awful legislation!</td>\n",
       "      <td>Vincent J. Albiani</td>\n",
       "      <td>9/26/22 4:27 pm</td>\n",
       "      <td>136284</td>\n",
       "      <td></td>\n",
       "    </tr>\n",
       "    <tr>\n",
       "      <th>2</th>\n",
       "      <td>This is a terrible policy decision.</td>\n",
       "      <td>Gaye Degrazio</td>\n",
       "      <td>9/26/22 4:27 pm</td>\n",
       "      <td>136283</td>\n",
       "      <td></td>\n",
       "    </tr>\n",
       "  </tbody>\n",
       "</table>\n",
       "</div>"
      ],
      "text/plain": [
       "                         Comment Title           Commenter             Date  \\\n",
       "0               I am strongly opposed.   Latosha Misciagna  9/26/22 4:27 pm   \n",
       "1                   Awful legislation!  Vincent J. Albiani  9/26/22 4:27 pm   \n",
       "2  This is a terrible policy decision.       Gaye Degrazio  9/26/22 4:27 pm   \n",
       "\n",
       "  commentId full_comment  \n",
       "0    136285               \n",
       "1    136284               \n",
       "2    136283               "
      ]
     },
     "execution_count": 66,
     "metadata": {},
     "output_type": "execute_result"
    }
   ],
   "source": [
    "df.head(3)"
   ]
  },
  {
   "cell_type": "code",
   "execution_count": 41,
   "metadata": {},
   "outputs": [
    {
     "data": {
      "text/html": [
       "<div>\n",
       "<style scoped>\n",
       "    .dataframe tbody tr th:only-of-type {\n",
       "        vertical-align: middle;\n",
       "    }\n",
       "\n",
       "    .dataframe tbody tr th {\n",
       "        vertical-align: top;\n",
       "    }\n",
       "\n",
       "    .dataframe thead th {\n",
       "        text-align: right;\n",
       "    }\n",
       "</style>\n",
       "<table border=\"1\" class=\"dataframe\">\n",
       "  <thead>\n",
       "    <tr style=\"text-align: right;\">\n",
       "      <th></th>\n",
       "      <th>Comment Title</th>\n",
       "      <th>Commenter</th>\n",
       "      <th>Date</th>\n",
       "    </tr>\n",
       "  </thead>\n",
       "  <tbody>\n",
       "    <tr>\n",
       "      <th>7313</th>\n",
       "      <td>Transgender pronkun</td>\n",
       "      <td>Anonymous (128950)</td>\n",
       "      <td>9/26/22 5:24 am</td>\n",
       "    </tr>\n",
       "    <tr>\n",
       "      <th>7314</th>\n",
       "      <td>Wholly support the 2022 guidance</td>\n",
       "      <td>LH, Fairfax County Public Schools mother</td>\n",
       "      <td>9/26/22 2:37 am</td>\n",
       "    </tr>\n",
       "    <tr>\n",
       "      <th>7315</th>\n",
       "      <td>Protect Kids</td>\n",
       "      <td>Cassidy Moulton-Hill</td>\n",
       "      <td>9/26/22 12:30 am</td>\n",
       "    </tr>\n",
       "  </tbody>\n",
       "</table>\n",
       "</div>"
      ],
      "text/plain": [
       "                         Comment Title  \\\n",
       "7313               Transgender pronkun   \n",
       "7314  Wholly support the 2022 guidance   \n",
       "7315                      Protect Kids   \n",
       "\n",
       "                                     Commenter              Date  \n",
       "7313                        Anonymous (128950)   9/26/22 5:24 am  \n",
       "7314  LH, Fairfax County Public Schools mother   9/26/22 2:37 am  \n",
       "7315                      Cassidy Moulton-Hill  9/26/22 12:30 am  "
      ]
     },
     "execution_count": 41,
     "metadata": {},
     "output_type": "execute_result"
    }
   ],
   "source": [
    "df.tail(3)"
   ]
  },
  {
   "cell_type": "code",
   "execution_count": 65,
   "metadata": {},
   "outputs": [],
   "source": []
  },
  {
   "cell_type": "code",
   "execution_count": 72,
   "metadata": {},
   "outputs": [],
   "source": [
    "# loop over all entries, update in place\n",
    "df['full_comment'] = ''\n",
    "for i in range(df.shape[0]):\n",
    "    url=f\"https://townhall.virginia.gov/L/viewcomments.cfm?commentid={df.loc[i,'commentId']}\"\n",
    "    soup2 = BeautifulSoup(requests.get(url).text, \"lxml\")\n",
    "    df.loc[i,'full_comment'] = soup2.find(attrs={\"class\": \"divComment\"}).text"
   ]
  },
  {
   "cell_type": "code",
   "execution_count": 75,
   "metadata": {},
   "outputs": [],
   "source": [
    "df.to_csv('1953_comments.csv')"
   ]
  },
  {
   "cell_type": "markdown",
   "metadata": {},
   "source": [
    "## Alt method - full comments page, paginated"
   ]
  },
  {
   "cell_type": "code",
   "execution_count": 7,
   "metadata": {},
   "outputs": [],
   "source": [
    "base_url = \"https://townhall.virginia.gov/L/ViewComments.cfm?GdocForumID=1953\"\n",
    "params = {\"vPage\": 1,\n",
    "  \"vPerPage\": 999,\n",
    "  \"sub1\": \"go\"}"
   ]
  },
  {
   "cell_type": "code",
   "execution_count": null,
   "metadata": {},
   "outputs": [],
   "source": [
    "pagecount = 999\n",
    "page = 1\n",
    "\n",
    "dfc = pd.DataFrame()\n",
    "\n",
    "while page < pagecount:\n",
    "    r = requests.post(base_url, data=params)\n",
    "    try:\n",
    "        pagecount = int(soup.find(id=\"page\").div.a.text)\n",
    "    except:\n",
    "        pagecount = 0\n",
    "    print(f\"page {page}/{pagecount}\")\n",
    "    page += 1\n",
    "    "
   ]
  },
  {
   "cell_type": "code",
   "execution_count": 8,
   "metadata": {},
   "outputs": [],
   "source": [
    "r = requests.post(base_url, data=params)"
   ]
  },
  {
   "cell_type": "code",
   "execution_count": 53,
   "metadata": {},
   "outputs": [],
   "source": [
    "soup = BeautifulSoup(r.text, \"lxml\")"
   ]
  },
  {
   "cell_type": "code",
   "execution_count": 50,
   "metadata": {},
   "outputs": [
    {
     "data": {
      "text/plain": [
       "18"
      ]
     },
     "execution_count": 50,
     "metadata": {},
     "output_type": "execute_result"
    }
   ],
   "source": [
    "# find total number of pages\n",
    "pagecount = int(soup.find(id=\"page\").div.a.text)\n",
    "pagecount"
   ]
  },
  {
   "cell_type": "code",
   "execution_count": 52,
   "metadata": {},
   "outputs": [
    {
     "data": {
      "text/plain": [
       "{'Date': '9/26/22  12:30 am',\n",
       " 'Commenter': 'Cassidy Moulton-Hill',\n",
       " 'Comment Title': 'Protect Kids',\n",
       " 'Comment': 'This attempt to keep trans children from affirming their gender in the most vulnerable place they can be is a clear disregard for children’s lives and an attempt at nothing but conveying control over children with an extremely partisan belief.Trans children are more likely to commit suicide over cis children. To declare any type of protection for children and then disregarding their right to be and simply just use a bathroom (a place that should be of extremely little concern of adults) makes the original argument disingenuous at best.Protect children by allowing them the respect to make decisions regarding their own mental health and their decision to choose where to mind their own business without adults obsessing over their genitalia.',\n",
       " 'CommentID': 128948}"
      ]
     },
     "execution_count": 52,
     "metadata": {},
     "output_type": "execute_result"
    }
   ],
   "source": [
    "box = soup.find_all(attrs={\"class\": \"Cbox\"})[0]\n",
    "comment = {\"Date\": unicodedata.normalize(\"NFKD\", box.contents[1].div.get_text(strip=True)),\n",
    "           \"Commenter\": box.contents[3].contents[2].strip(),\n",
    "           \"Comment Title\": box.contents[3].find_all('strong')[1].get_text(strip=True),\n",
    "           \"Comment\": box.find(attrs={\"class\":\"divComment\"}).get_text(strip=True),\n",
    "           \"CommentID\": int(box.find(attrs={\"class\":\"linklight\"}).get_text(strip=True))}\n",
    "comment"
   ]
  },
  {
   "cell_type": "code",
   "execution_count": 43,
   "metadata": {},
   "outputs": [
    {
     "data": {
      "text/plain": [
       "'128948'"
      ]
     },
     "execution_count": 43,
     "metadata": {},
     "output_type": "execute_result"
    }
   ],
   "source": [
    "int(box.find(attrs={\"class\":\"linklight\"}).text.strip())"
   ]
  },
  {
   "cell_type": "code",
   "execution_count": 40,
   "metadata": {},
   "outputs": [
    {
     "data": {
      "text/plain": [
       "<div class=\"Cbox\" id=\"cbox128948\">\n",
       "<div style=\"float: right; text-align: right;\">\n",
       "<div style=\"background-color: white; border: 1px solid #cccccc; padding: 4px\">9/26/22  12:30 am</div>\n",
       "</div>\n",
       "<div>\n",
       "<strong>Commenter:</strong>\n",
       "          Cassidy Moulton-Hill \n",
       "          <br/><br/>\n",
       "<strong>Protect Kids</strong>\n",
       "</div>\n",
       "<div style=\"clear: right\"> </div>\n",
       "<div class=\"divComment\">\n",
       "<!DOCTYPE html>\n",
       "\n",
       "<p>This attempt to keep trans children from affirming their gender in the most vulnerable place they can be is a clear disregard for children’s lives and an attempt at nothing but conveying control over children with an extremely partisan belief. <br/>Trans children are more likely to commit suicide over cis children. To declare any type of protection for children and then disregarding their right to be and simply just use a bathroom (a place that should be of extremely little concern of adults) makes the original argument disingenuous at best. <br/>Protect children by allowing them the respect to make decisions regarding their own mental health and their decision to choose where to mind their own business without adults obsessing over their genitalia.</p>\n",
       "</div>\n",
       "<div style=\"float: left; font-size: 90%; color: #777777\">\n",
       "             CommentID: <a class=\"linklight\" href=\"ViewComments.cfm?commentid=128948\">128948</a>\n",
       "</div>\n",
       "<div style=\"clear: both; font-size: 0pt;\"> </div>\n",
       "</div>"
      ]
     },
     "execution_count": 40,
     "metadata": {},
     "output_type": "execute_result"
    }
   ],
   "source": [
    "box"
   ]
  },
  {
   "cell_type": "code",
   "execution_count": null,
   "metadata": {},
   "outputs": [],
   "source": []
  }
 ],
 "metadata": {
  "kernelspec": {
   "display_name": "Python 3",
   "language": "python",
   "name": "python3"
  },
  "language_info": {
   "codemirror_mode": {
    "name": "ipython",
    "version": 3
   },
   "file_extension": ".py",
   "mimetype": "text/x-python",
   "name": "python",
   "nbconvert_exporter": "python",
   "pygments_lexer": "ipython3",
   "version": "3.7.6"
  }
 },
 "nbformat": 4,
 "nbformat_minor": 5
}
